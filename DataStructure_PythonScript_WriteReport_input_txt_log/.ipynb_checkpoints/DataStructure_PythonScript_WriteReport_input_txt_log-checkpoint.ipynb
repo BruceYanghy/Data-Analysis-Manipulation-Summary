{
 "cells": [
  {
   "cell_type": "markdown",
   "metadata": {},
   "source": [
    "# Data Structure: create Python Script to write reports based on txt/log file"
   ]
  },
  {
   "cell_type": "markdown",
   "metadata": {},
   "source": [
    "## Example from Cousera: System Email Log"
   ]
  },
  {
   "cell_type": "markdown",
   "metadata": {},
   "source": [
    "##  1. Load the file using open"
   ]
  },
  {
   "cell_type": "code",
   "execution_count": 187,
   "metadata": {
    "collapsed": true
   },
   "outputs": [],
   "source": [
    "#open-file handle\n",
    "#handle = open(filename,mode) mode = 'w' or 'r'\n",
    "fh = open(\"mbox-short.txt\")"
   ]
  },
  {
   "cell_type": "code",
   "execution_count": 188,
   "metadata": {},
   "outputs": [
    {
     "name": "stdout",
     "output_type": "stream",
     "text": [
      "94626\n"
     ]
    }
   ],
   "source": [
    "#use read to read the whole file\n",
    "inp= fh.read()\n",
    "print(len(inp))"
   ]
  },
  {
   "cell_type": "code",
   "execution_count": 1,
   "metadata": {},
   "outputs": [
    {
     "data": {
      "text/plain": [
       "207283938"
      ]
     },
     "execution_count": 1,
     "metadata": {},
     "output_type": "execute_result"
    }
   ],
   "source": [
    "x1=123445555\n",
    "x2=83838383\n",
    "x1+x2"
   ]
  },
  {
   "cell_type": "code",
   "execution_count": null,
   "metadata": {
    "collapsed": true
   },
   "outputs": [],
   "source": [
    "for i in"
   ]
  },
  {
   "cell_type": "markdown",
   "metadata": {},
   "source": [
    "## 2. Print each line in the file"
   ]
  },
  {
   "cell_type": "code",
   "execution_count": 189,
   "metadata": {
    "collapsed": true
   },
   "outputs": [],
   "source": [
    "#use rstrip to remove default whitespace characters\n",
    "for line in fh:\n",
    "    line = line.rstrip()\n",
    "    words = line.split()\n",
    "    #print(line)"
   ]
  },
  {
   "cell_type": "code",
   "execution_count": 3,
   "metadata": {
    "collapsed": true
   },
   "outputs": [],
   "source": [
    "#split the words out by space\n",
    "for line in fh:\n",
    "    line = line.rstrip()\n",
    "    words = line.split()\n",
    "    print(words)"
   ]
  },
  {
   "cell_type": "raw",
   "metadata": {},
   "source": [
    "words"
   ]
  },
  {
   "cell_type": "markdown",
   "metadata": {},
   "source": [
    "## 3. Print email address by seaching word 'From' "
   ]
  },
  {
   "cell_type": "code",
   "execution_count": 5,
   "metadata": {},
   "outputs": [
    {
     "name": "stdout",
     "output_type": "stream",
     "text": [
      "stephen.marquard@uct.ac.za\n",
      "louis@media.berkeley.edu\n",
      "zqian@umich.edu\n",
      "rjlowe@iupui.edu\n",
      "zqian@umich.edu\n",
      "rjlowe@iupui.edu\n",
      "cwen@iupui.edu\n",
      "cwen@iupui.edu\n",
      "gsilver@umich.edu\n",
      "gsilver@umich.edu\n",
      "zqian@umich.edu\n",
      "gsilver@umich.edu\n",
      "wagnermr@iupui.edu\n",
      "zqian@umich.edu\n",
      "antranig@caret.cam.ac.uk\n",
      "gopal.ramasammycook@gmail.com\n",
      "david.horwitz@uct.ac.za\n",
      "david.horwitz@uct.ac.za\n",
      "david.horwitz@uct.ac.za\n",
      "david.horwitz@uct.ac.za\n",
      "stephen.marquard@uct.ac.za\n",
      "louis@media.berkeley.edu\n",
      "louis@media.berkeley.edu\n",
      "ray@media.berkeley.edu\n",
      "cwen@iupui.edu\n",
      "cwen@iupui.edu\n",
      "cwen@iupui.edu\n",
      "There were 27 lines in the file with From as the first word\n"
     ]
    }
   ],
   "source": [
    "fh = open(\"mbox-short.txt\")\n",
    "count = 0\n",
    "for line in fh:\n",
    "    line = line.rstrip()\n",
    "    words = line.split()\n",
    "    if len(words)!=0:\n",
    "        if words[0] == 'From':\n",
    "            print(words[1])\n",
    "            count+=1\n",
    "\n",
    "print(\"There were\", count, \"lines in the file with From as the first word\")\n"
   ]
  },
  {
   "cell_type": "markdown",
   "metadata": {},
   "source": [
    "## 4. Print unique email address"
   ]
  },
  {
   "cell_type": "code",
   "execution_count": 6,
   "metadata": {
    "scrolled": true
   },
   "outputs": [
    {
     "name": "stdout",
     "output_type": "stream",
     "text": [
      "['stephen.marquard@uct.ac.za', 'louis@media.berkeley.edu', 'zqian@umich.edu', 'rjlowe@iupui.edu', 'zqian@umich.edu', 'rjlowe@iupui.edu', 'cwen@iupui.edu', 'cwen@iupui.edu', 'gsilver@umich.edu', 'gsilver@umich.edu', 'zqian@umich.edu', 'gsilver@umich.edu', 'wagnermr@iupui.edu', 'zqian@umich.edu', 'antranig@caret.cam.ac.uk', 'gopal.ramasammycook@gmail.com', 'david.horwitz@uct.ac.za', 'david.horwitz@uct.ac.za', 'david.horwitz@uct.ac.za', 'david.horwitz@uct.ac.za', 'stephen.marquard@uct.ac.za', 'louis@media.berkeley.edu', 'louis@media.berkeley.edu', 'ray@media.berkeley.edu', 'cwen@iupui.edu', 'cwen@iupui.edu', 'cwen@iupui.edu'] 27\n"
     ]
    }
   ],
   "source": [
    "fh = open(\"mbox-short.txt\")\n",
    "contact_email=[]\n",
    "for line in fh:\n",
    "    line = line.rstrip()\n",
    "    words = line.split()\n",
    "    if len(words)!=0:\n",
    "        if words[0] == 'From':\n",
    "            contact_email.append(words[1])\n",
    "\n",
    "print(contact_email,len(contact_email))"
   ]
  },
  {
   "cell_type": "code",
   "execution_count": 7,
   "metadata": {},
   "outputs": [
    {
     "name": "stdout",
     "output_type": "stream",
     "text": [
      "{'david.horwitz@uct.ac.za', 'wagnermr@iupui.edu', 'ray@media.berkeley.edu', 'cwen@iupui.edu', 'gsilver@umich.edu', 'gopal.ramasammycook@gmail.com', 'rjlowe@iupui.edu', 'louis@media.berkeley.edu', 'antranig@caret.cam.ac.uk', 'stephen.marquard@uct.ac.za', 'zqian@umich.edu'} 11\n"
     ]
    }
   ],
   "source": [
    "#use set to get unique data\n",
    "contact_email=set(contact_email)\n",
    "print(contact_email,len(contact_email))"
   ]
  },
  {
   "cell_type": "markdown",
   "metadata": {},
   "source": [
    "## 5. Print email address using startwith method"
   ]
  },
  {
   "cell_type": "code",
   "execution_count": 83,
   "metadata": {},
   "outputs": [
    {
     "name": "stdout",
     "output_type": "stream",
     "text": [
      "From: stephen.marquard@uct.ac.za\n",
      "From: louis@media.berkeley.edu\n",
      "From: zqian@umich.edu\n",
      "From: rjlowe@iupui.edu\n",
      "From: zqian@umich.edu\n",
      "From: rjlowe@iupui.edu\n",
      "From: cwen@iupui.edu\n",
      "From: cwen@iupui.edu\n",
      "From: gsilver@umich.edu\n",
      "From: gsilver@umich.edu\n",
      "From: zqian@umich.edu\n",
      "From: gsilver@umich.edu\n",
      "From: wagnermr@iupui.edu\n",
      "From: zqian@umich.edu\n",
      "From: antranig@caret.cam.ac.uk\n",
      "From: gopal.ramasammycook@gmail.com\n",
      "From: david.horwitz@uct.ac.za\n",
      "From: david.horwitz@uct.ac.za\n",
      "From: david.horwitz@uct.ac.za\n",
      "From: david.horwitz@uct.ac.za\n",
      "From: stephen.marquard@uct.ac.za\n",
      "From: louis@media.berkeley.edu\n",
      "From: louis@media.berkeley.edu\n",
      "From: ray@media.berkeley.edu\n",
      "From: cwen@iupui.edu\n",
      "From: cwen@iupui.edu\n",
      "From: cwen@iupui.edu\n"
     ]
    }
   ],
   "source": [
    "fh = open(\"mbox-short.txt\")\n",
    "\n",
    "for line in fh:\n",
    "    line = line.rstrip()\n",
    "    if line.startswith('From: '):\n",
    "        print(line)\n"
   ]
  },
  {
   "cell_type": "markdown",
   "metadata": {},
   "source": [
    "## 6. Check how many emails each unique id sent"
   ]
  },
  {
   "cell_type": "code",
   "execution_count": 9,
   "metadata": {
    "collapsed": true
   },
   "outputs": [],
   "source": [
    "handle = open(\"mbox-short.txt\")\n",
    "#create a dictionary\n",
    "counts = dict()\n",
    "for line in handle:\n",
    "    if line.startswith('From'):\n",
    "        words=line.split()\n",
    "        #get the words in dictionary counts, \n",
    "        #if it is not there return 0 and add 1, \n",
    "        #if it is there get the value and add 1\n",
    "        #increment by 1\n",
    "        counts[words[1]] = counts.get(words[1],0)+1"
   ]
  },
  {
   "cell_type": "code",
   "execution_count": 11,
   "metadata": {},
   "outputs": [
    {
     "name": "stdout",
     "output_type": "stream",
     "text": [
      "{'stephen.marquard@uct.ac.za': 4, 'louis@media.berkeley.edu': 6, 'zqian@umich.edu': 8, 'rjlowe@iupui.edu': 4, 'cwen@iupui.edu': 10, 'gsilver@umich.edu': 6, 'wagnermr@iupui.edu': 2, 'antranig@caret.cam.ac.uk': 2, 'gopal.ramasammycook@gmail.com': 2, 'david.horwitz@uct.ac.za': 8, 'ray@media.berkeley.edu': 2}\n"
     ]
    }
   ],
   "source": [
    "print(counts)"
   ]
  },
  {
   "cell_type": "code",
   "execution_count": 10,
   "metadata": {},
   "outputs": [
    {
     "data": {
      "text/plain": [
       "10"
      ]
     },
     "execution_count": 10,
     "metadata": {},
     "output_type": "execute_result"
    }
   ],
   "source": [
    "counts.get(words[1],0)"
   ]
  },
  {
   "cell_type": "code",
   "execution_count": 15,
   "metadata": {},
   "outputs": [
    {
     "data": {
      "text/plain": [
       "0"
      ]
     },
     "execution_count": 15,
     "metadata": {},
     "output_type": "execute_result"
    }
   ],
   "source": [
    "counts.get(\"dfdfd\",0)"
   ]
  },
  {
   "cell_type": "code",
   "execution_count": 88,
   "metadata": {},
   "outputs": [
    {
     "name": "stdout",
     "output_type": "stream",
     "text": [
      "cwen@iupui.edu 10\n"
     ]
    }
   ],
   "source": [
    "handle = open(\"mbox-short.txt\")\n",
    "counts = dict()\n",
    "for line in handle:\n",
    "    if line.startswith('From'):\n",
    "        words=line.split()\n",
    "        counts[words[1]] = counts.get(words[1],0)+1\n",
    "        \n",
    "        \n",
    "\n",
    "bigcount = None\n",
    "bigword=None\n",
    "for email,count in counts.items():\n",
    "    if bigcount is None or count > bigcount:\n",
    "        bigword = email\n",
    "        bigcount = count\n",
    "\n",
    "print(bigword,bigcount)\n",
    "\n",
    "\n"
   ]
  },
  {
   "cell_type": "code",
   "execution_count": 49,
   "metadata": {
    "collapsed": true
   },
   "outputs": [],
   "source": [
    "name = \"mbox-short.txt\"\n",
    "handle = open(name)\n",
    "counts = dict()\n",
    "for line in handle:\n",
    "    if line.startswith('From'):\n",
    "        words=line.split()\n",
    "        for word in words:\n",
    "            counts[word] = counts.get(word,0)+1"
   ]
  },
  {
   "cell_type": "code",
   "execution_count": null,
   "metadata": {
    "collapsed": true
   },
   "outputs": [],
   "source": [
    "name = \"mbox-short.txt\"\n",
    "handle = open(name)\n",
    "counts = dict()\n",
    "for line in handle:\n",
    "    if line.startswith('From'):\n",
    "        words=line.split()\n",
    "        if len(words)>4:\n",
    "            counts[words[5][0:2]]=counts.get(words[5][0:2],0)+1\n",
    "        #for word in words:\n",
    "         #   counts[word] = counts.get(word,0)+1\n",
    "lists=list()\n",
    "for k,v in counts.items():\n",
    "    w = (k,v)\n",
    "    lists.append(w)\n",
    "lists.sort()  \n",
    "\n",
    "for k,v in lists:\n",
    "    print(k,v)"
   ]
  },
  {
   "cell_type": "markdown",
   "metadata": {},
   "source": [
    "# Interview Question: Given a txt file (system log files), write Python script to execute some purposes\n"
   ]
  },
  {
   "cell_type": "markdown",
   "metadata": {},
   "source": [
    "# FIX Protocol"
   ]
  },
  {
   "cell_type": "code",
   "execution_count": 19,
   "metadata": {},
   "outputs": [
    {
     "name": "stdout",
     "output_type": "stream",
     "text": [
      "8=FIX.4.2^A 9=258^A 35=8^A 128=XYZ^A 34=84^A 49=CCG^A 56=ABC_DEFG04^A 52=20100128-18:54:59^A 55=IOC^A 37=NF 0960/01282010^A 11=NF 0960/01282010^A 17=0^A 20=0^A 39=3^A 150=3^A 54=1^A 38=100^A 40=2^A 44=49.1000^A 59=0^A 31=0^A 32=0^A 14=0^A 6=0^A151=100^A 60=20100128-18:55:00^A 58=Done for Day^A 1=ABC123ZYX^A 30=N^A 47=A^A 207=N^A 29=1^A 10=081^A\n",
      "\n",
      "8=FIX.4.2^A 9=258^A 35=8^A 50=ARCA^A 128=XYZ^A 34=87^A 49=CCG^A 56=ABC_DEFG04^A 52=20091216-18:00:24^A 55=MMM^A 37=0000002^A 11=NF 0921/12162009^A 17=2000005^A 20=0^A 39=2^A 150=2^A 54=2^A 38=1000^A 40=1^A 59=0^A 31=82.245^A 32=1000^A 14=1000^A 6=82.245^A 151=0^A 60=20091216-18:00:25^A 58=Fill^A 583=91XYZ^A 30=MP^A 207=N^A 9426=N/MP^A 9570=N/MP^A 10=088^A\n",
      "\n",
      "8=FIX.4.2^A 9=226^A 35=8^A 128=XYZ^A 34=4^A 49=CCG^A 56=ABC_DEFG01^A 52=20090323-15:40:35^A 55=CVS^A 37=NF 0542/03232009^A 11=NF 0542/03232009^A 17=0^A 20=0^A 39=0^A 150=0^A 54=1^A 38=100^A 40=1^A 59=0^A 31=0^A 32=0^A 14=0^A 6=0^A 151=100^A 60=20090323-15:40:30^A 58=New order^A 30=N^A 207=N^A 47=A^A 10=149^A\n",
      "\n",
      "8=FIX.4.2^A 9=253^A 35=8^A 128=XYZ^A 34=124^A 49=CCG^A 56=ABC_DEFG04^A 52=20100208-18:51:42^A 55=RRC^A 37=NF 0015/02082010^A 11=NF 0015/02082010^A 17=0^A 20=0^A 39=0^A 150=0^A 54=2^A 38=1000^A 40=2^A 44=55.3600^A 59=0^A 31=0^A 32=0^A 14=0^A 6=0^A 151=1000^A 60=20100208-18:51:42^A 58=New order^A 30=N^A 1=ABC123ZYX^A 207=N^A 47=A^A 10=037^A\n",
      "\n",
      "8=FIX.4.2^A 9=258^A 35=8^A 50=ARCA^A 128=XYZ^A 34=87^A 49=CCG^A 56=ABC_DEFG04^A 52=20091216-18:00:24^A 55=MMM^A 37=0000002^A 11=NF 0921/12162009^A 17=2000005^A 20=0^A 39=2^A 150=2^A 54=2^A 38=1000^A 40=1^A 59=0^A 31=82.245^A 32=1000^A 14=1000^A 6=82.245^A 151=0^A 60=20091216-18:00:25^A 58=Fill^A 583=91XYZ^A 30=MP^A 207=N^A 9426=N/MP^A 9570=N/MP^A 10=088^A\n",
      "\n",
      "8=FIX.4.2^A 9=157^A 35=D^A 34=103^A 49=ABC_DEFG01^A 52=20090325-15:08:17^A 56=CCG^A 115=XYZ^A 11=NF 0570/03252009^A 54=1^A 38=1000^A 55=CVS^A 40=2^A 44=25.47^A 59=0^A 47=A^A 60=20090325-15:08:17^A 21=1^A 207=N^A 10=206^A\n",
      "\n",
      "8=FIX.4.2^A 9=264^A 35=8^A 128=XYZ^A 34=113^A 49=CCG^A 56=ABC_DEFG01^A 52=20090325-15:08:50^A 55=CVS^A 37=NF 0570/03252009^A 11=NF 0571/03252009^A 41=NF 0570/03252009^A 17=0^A 20=0^A 39=5^A 150=5^A 54=1^A 38=1000^A 40=2^A 44=25.4700^A 59=0^A 31=0^A 32=0^A 14=0^A 6=0^A 151=900^A 60=20090325-15:08:50^A 58=Replaced^A 30=N^A 47=A^A 207=N^A 29=1^A 10=206^A\n",
      "\n",
      "8=FIX.4.2^A 9=190^A 35=F^A 34=106^A 49=ABC_DEFG01^A 52=20090325-15:09:11^A 56=CCG^A 115=XYZ^A 41=NF 0570/03252009^A 37=NF 0570/03252009^A 11=NF 0572/03252009^A 54=1^A 38=1000^A 55=CVS^A 60=20090325-15:09:11^A 207=N^A 9428=100^A 9429=800^A 10=125^A\n",
      "\n",
      "8=FIX.4.2^A 9=158^A 35=D^A 34=49^A 49=ABC_DEFG04^A 52=20090402-18:11:47^A 56=CCG^A 57=4^A 115=XYZ^A 143=UR^A 11=NF 0644/04022009^A 54=1^A 38=100^A 55=PAC^A 40=1^A 59=0^A 47=A^A 60=20090402-18:11:47^A 21=1^A 207=N^A 10=010^A\n",
      "\n",
      "8=FIX.4.2^A 9=153^A 35=D^A 34=11^A 49=ABC_DEFG04^A 52=20091216-17:23:52^A 56=CCG^A 57=ARCA^A 115=XYZ^A 128=MP^A 11=NF 0921/12162009^A 54=2^A 38=1000^A 55=MMM^A 40=1^A 59=0^A 1=ABC123ZYX^A 21=1^A 207=N^A 47=A^A 10=172^A\n",
      "\n",
      "8=FIX.4.2^A 9=138^A 35=D^A 34=472^A 49=LEH_LZJ02^A 52=20100302-21:57:44^A 56=CCG^A 115=LZJ^A 11=NF 0039/03022010^A 54=1^A 38=100^A 55=IOC^A 40=1^A 59=0^A 1=ABC123ZYX^A 21=1^A 207=N^A 47=A^A 10=165^A\n",
      "\n",
      "8=FIX.4.2^A 9=190^A 35=F^A 34=106^A 49=ABC_DEFG01^A 52=20090325-15:09:11^A 56=CCG^A 115=XYZ^A 41=NF 0570/03252009^A 37=NF 0570/03252009^A 11=NF 0572/03252009^A 54=1^A 38=1000^A 55=CVS^A 60=20090325-15:09:11^A 207=N^A 9428=100^A 9429=800^A 10=125^A\n",
      "\n",
      "8=FIX.4.2^A 9=159^A 35=D^A 34=50^A 49=ABC_DEFG04^A 52=20090402-18:12:15^A 56=CCG^A 57=4^A 115=XYZ^A 143=UR^A 11=NF 0645/04022009^A 54=1^A 38=1000^A 55=PAC^A 40=1^A 59=0^A 47=A^A 60=20090402-18:12:15^A 21=1^A 207=N^A 10=044^A\n",
      "\n",
      "8=FIX.4.2^A 9=153^A 35=D^A 34=11^A 49=ABC_DEFG04^A 52=20091216-17:23:52^A 56=CCG^A 57=ARCA^A 115=XYZ^A 128=MP^A 11=NF 0921/12162009^A 54=2^A 38=1000^A 55=MMM^A 40=1^A 59=0^A 1=ABC123ZYX^A 21=1^A 207=N^A 47=A^A 10=172^A\n",
      "\n",
      "8=FIX.4.2^A 9=159^A 35=D^A 34=50^A 49=ABC_DEFG04^A 52=20090402-18:12:15^A 56=CCG^A 57=4^A 115=XYZ^A 143=UR^A 11=NF 0645/04022009^A 54=1^A 38=1000^A 55=FB^A 40=1^A 59=0^A 47=A^A 60=20090402-18:12:15^A 21=1^A 207=N^A 10=044^A\n",
      "\n",
      "8=FIX.4.2^A 9=153^A 35=D^A 34=11^A 49=ABC_DEFG04^A 52=20091216-17:23:52^A 56=CCG^A 57=ARCA^A 115=XYZ^A 128=MP^A 11=NF 0921/12162009^A 54=2^A 38=1000^A 55=AMZN^A 40=1^A 59=0^A 1=ABC123ZYX^A 21=1^A 207=N^A 47=A^A 10=172^A\n",
      "\n",
      "8=FIX.4.2^A 9=226^A 35=8^A 128=XYZ^A 34=4^A 49=CCG^A 56=ABC_DEFG01^A 52=20090323-15:40:35^A 55=CVS^A 37=NF 0542/03232009^A 11=NF 0542/03232009^A 17=0^A 20=0^A 39=0^A 150=0^A 54=1^A 38=100^A 40=1^A 59=0^A 31=0^A 32=0^A 14=0^A 6=0^A 151=100^A 60=20090323-15:40:30^A 58=New order^A 30=N^A 207=N^A 47=A^A 10=149^A\n",
      "\n",
      "8=FIX.4.2^A 9=226^A 35=8^A 128=XYZ^A 34=4^A 49=CCG^A 56=ABC_DEFG01^A 52=20090323-15:40:35^A 55=AMZN^A 37=NF 0542/03232009^A 11=NF 0542/03232009^A 17=0^A 20=0^A 39=0^A 150=0^A 54=1^A 38=100^A 40=1^A 59=0^A 31=0^A 32=0^A 14=0^A 6=0^A 151=100^A 60=20090323-15:40:30^A 58=New order^A 30=N^A 207=N^A 47=A^A 10=149^A\n",
      "\n",
      "8=FIX.4.2^A 9=226^A 35=8^A 128=XYZ^A 34=4^A 49=CCG^A 56=ABC_DEFG01^A 52=20090323-15:40:35^A 55=FB^A 37=NF 0542/03232009^A 11=NF 0542/03232009^A 17=0^A 20=0^A 39=0^A 150=0^A 54=1^A 38=100^A 40=1^A 59=0^A 31=0^A 32=0^A 14=0^A 6=0^A 151=100^A 60=20090323-15:40:30^A 58=New order^A 30=N^A 207=N^A 47=A^A 10=149^A\n",
      "\n",
      "8=FIX.4.2^A 9=145^A 35=D^A 34=4^A 49=ABC_DEFG01^A 52=20090323-15:40:29^A 56=CCG^A 115=XYZ^A 11=NF 0542/03232009^A 54=1^A 38=100^A 55=CVS^A 40=1^A 59=0^A 47=A^A 60=20090323-15:40:29^A 21=1^A 207=N^A 10=139^A\n",
      "\n",
      "8=FIX.4.2^A 9=378^A 35=8^A 128=XYZ^A 34=5^A 49=CCG^A 56=ABC_DEFG01^A 52=20090323-15:40:35^A 55=CVS^A 37=NF 0542/03232009^A 11=NF 0542/03232009^A 17=NF 0542/03232009 001001001^A 20=0^A 39=2^A 150=2^A 54=1^A 38=100^A 40=1^A 59=0^A 31=25.4800^A 32=100^A 14=0^A 6=0^A 151=0^A 60=20090323-15:40:30^A 58=Fill^A 30=N^A 76=0034^A 207=N^A 47=A^A 9430=NX^A 9483=000008^A 9578=1^A 382=1^A 375=TOD^A 337=0000^A 437=100^A 438=1243^A 9579=0000100001^A 9426=2/2^A 9433=0034^A 29=1^A 63=0^A 9440=001001001^A 10=080^A\n"
     ]
    }
   ],
   "source": [
    "handler = open(\"FIX_protocol.txt\")\n",
    "for line in handler:\n",
    "    line = line.rstrip()\n",
    "    print(line)\n"
   ]
  },
  {
   "cell_type": "markdown",
   "metadata": {},
   "source": [
    "# MsgType (35) \n",
    "## <font color=\"maroon\"><h4 align=\"center\">35=D New Order - Single (D)\n",
    "</font>\n",
    "## <font color=\"maroon\"><h4 align=\"center\">35=8 Execution Report (8)\n",
    "</font>\n"
   ]
  },
  {
   "cell_type": "markdown",
   "metadata": {},
   "source": [
    "# ExecType (Tag = 150, Type: char)\n",
    "## <font color=\"maroon\"><h4 align=\"center\">150=0 New Order Acknowledgement\n",
    "\n",
    "</font>\n"
   ]
  },
  {
   "cell_type": "markdown",
   "metadata": {},
   "source": [
    "## <font color=\"maroon\"><h4 align=\"center\">52: SendingTime, Time of message transmission (always expressed in UTC (Universal Time Coordinated, also known as 'GMT')\n",
    "</font>\n",
    "\n",
    "## <font color=\"maroon\"><h4 align=\"center\">60: TransactTime, Time of execution/order creation (expressed in UTC (Universal Time Coordinated, also known as \"GMT\")</font>\n",
    "\n",
    "\n",
    "\n",
    "## <font color=\"maroon\"><h4 align=\"center\">11: ClOrdID, Unique identifier for Order as assigned by institution</font>\n",
    "\n",
    "## <font color=\"maroon\"><h4 align=\"center\">55: Ticker symbol\n",
    "</font>\n",
    "\n"
   ]
  },
  {
   "cell_type": "markdown",
   "metadata": {},
   "source": [
    "## Check the frequency of each ticker appeared in the FIX protocol message"
   ]
  },
  {
   "cell_type": "code",
   "execution_count": 173,
   "metadata": {
    "collapsed": true
   },
   "outputs": [],
   "source": [
    "handler = open(\"FIX_protocol_test.txt\")\n",
    "message_55=[]\n",
    "count_dic=dict()\n",
    "for line in handler:\n",
    "    line = line.rstrip()\n",
    "    words = line.split()\n",
    "    if any('55=' in s for s in words):\n",
    "        #list comprehension\n",
    "        ticker=[x for x in words if '55=' in x][0]\n",
    "        #split ticker out\n",
    "        #after '=' then before '^'\n",
    "        ticker=ticker.split('=')[1].split('^')[0]\n",
    "        #words frequency stored in dictionary\n",
    "        count_dic[ticker] = count_dic.get(ticker,0)+1"
   ]
  },
  {
   "cell_type": "code",
   "execution_count": 174,
   "metadata": {},
   "outputs": [
    {
     "data": {
      "text/plain": [
       "str"
      ]
     },
     "execution_count": 174,
     "metadata": {},
     "output_type": "execute_result"
    }
   ],
   "source": [
    "type(ticker)"
   ]
  },
  {
   "cell_type": "code",
   "execution_count": 175,
   "metadata": {
    "scrolled": true
   },
   "outputs": [
    {
     "name": "stdout",
     "output_type": "stream",
     "text": [
      "{'IOC': 2, 'MMM': 4, 'CVS': 8, 'RRC': 1, 'PAC': 2, 'FB': 2, 'AMZN': 2}\n"
     ]
    }
   ],
   "source": [
    "print(count_dic)"
   ]
  },
  {
   "cell_type": "code",
   "execution_count": 176,
   "metadata": {},
   "outputs": [
    {
     "data": {
      "text/plain": [
       "'55=CVS^A'"
      ]
     },
     "execution_count": 176,
     "metadata": {},
     "output_type": "execute_result"
    }
   ],
   "source": [
    "ticker=[x for x in words if '55=' in x][0]\n",
    "ticker"
   ]
  },
  {
   "cell_type": "code",
   "execution_count": 15,
   "metadata": {},
   "outputs": [
    {
     "data": {
      "text/plain": [
       "'CVS'"
      ]
     },
     "execution_count": 15,
     "metadata": {},
     "output_type": "execute_result"
    }
   ],
   "source": [
    "ticker.split('=')[1].split('^')[0]\n"
   ]
  },
  {
   "cell_type": "markdown",
   "metadata": {},
   "source": [
    "## Calculate the latency (the time delay in the order)"
   ]
  },
  {
   "cell_type": "markdown",
   "metadata": {},
   "source": [
    "### 1. Identify unique ID"
   ]
  },
  {
   "cell_type": "code",
   "execution_count": 34,
   "metadata": {
    "collapsed": true
   },
   "outputs": [],
   "source": [
    "handler = open(\"FIX_order.txt\")\n",
    "CIOrderID_list=[]\n",
    "for line in handler:\n",
    "    line = line.rstrip()\n",
    "    words = line.split('^A ')\n",
    "    #print(words)\n",
    "    if any('11=' in s for s in words):\n",
    "        CIOrderID = [x for x in words if '11=' in x][0]\n",
    "        CIOrderID = CIOrderID.split(\"=\")[1]\n",
    "        CIOrderID_list.append(CIOrderID)\n",
    "        "
   ]
  },
  {
   "cell_type": "code",
   "execution_count": 33,
   "metadata": {},
   "outputs": [
    {
     "data": {
      "text/plain": [
       "'NF 0015/02082010'"
      ]
     },
     "execution_count": 33,
     "metadata": {},
     "output_type": "execute_result"
    }
   ],
   "source": [
    "CIOrderID"
   ]
  },
  {
   "cell_type": "code",
   "execution_count": 41,
   "metadata": {},
   "outputs": [
    {
     "data": {
      "text/plain": [
       "['NF 0542/03232009', 'NF 0015/02082010']"
      ]
     },
     "execution_count": 41,
     "metadata": {},
     "output_type": "execute_result"
    }
   ],
   "source": [
    "CIOrderID_list = list(set(CIOrderID_list))\n",
    "CIOrderID_list"
   ]
  },
  {
   "cell_type": "code",
   "execution_count": 45,
   "metadata": {},
   "outputs": [
    {
     "data": {
      "text/plain": [
       "2"
      ]
     },
     "execution_count": 45,
     "metadata": {},
     "output_type": "execute_result"
    }
   ],
   "source": [
    "len(CIOrderID_list)"
   ]
  },
  {
   "cell_type": "markdown",
   "metadata": {},
   "source": [
    "## Create a pands Dataframe to store all values"
   ]
  },
  {
   "cell_type": "code",
   "execution_count": 137,
   "metadata": {
    "collapsed": true
   },
   "outputs": [],
   "source": [
    "import pandas as pd\n",
    "from datetime import datetime\n",
    "\n",
    "col_names =  ['CIOrderID', 'MsgType', 'Symbol','ExecType','SendingTime','TranctionTime','Latency']\n",
    "\n",
    "df = pd.DataFrame(columns=col_names)\n"
   ]
  },
  {
   "cell_type": "code",
   "execution_count": 138,
   "metadata": {},
   "outputs": [
    {
     "data": {
      "text/html": [
       "<div>\n",
       "<style>\n",
       "    .dataframe thead tr:only-child th {\n",
       "        text-align: right;\n",
       "    }\n",
       "\n",
       "    .dataframe thead th {\n",
       "        text-align: left;\n",
       "    }\n",
       "\n",
       "    .dataframe tbody tr th {\n",
       "        vertical-align: top;\n",
       "    }\n",
       "</style>\n",
       "<table border=\"1\" class=\"dataframe\">\n",
       "  <thead>\n",
       "    <tr style=\"text-align: right;\">\n",
       "      <th></th>\n",
       "      <th>CIOrderID</th>\n",
       "      <th>MsgType</th>\n",
       "      <th>Symbol</th>\n",
       "      <th>ExecType</th>\n",
       "      <th>SendingTime</th>\n",
       "      <th>TranctionTime</th>\n",
       "      <th>Latency</th>\n",
       "    </tr>\n",
       "  </thead>\n",
       "  <tbody>\n",
       "  </tbody>\n",
       "</table>\n",
       "</div>"
      ],
      "text/plain": [
       "Empty DataFrame\n",
       "Columns: [CIOrderID, MsgType, Symbol, ExecType, SendingTime, TranctionTime, Latency]\n",
       "Index: []"
      ]
     },
     "execution_count": 138,
     "metadata": {},
     "output_type": "execute_result"
    }
   ],
   "source": [
    "df"
   ]
  },
  {
   "cell_type": "code",
   "execution_count": 179,
   "metadata": {
    "collapsed": true
   },
   "outputs": [],
   "source": [
    "handler = open(\"FIX_order.txt\")\n",
    "import pandas as pd\n",
    "from datetime import datetime\n",
    "\n",
    "col_names =  ['CIOrderID', 'MsgType', 'Symbol','ExecType','SendingTime','TranctionTime','Latency (Seconds)']\n",
    "\n",
    "df = pd.DataFrame(columns=col_names)\n",
    "\n",
    "for line in handler:\n",
    "    line = line.rstrip()\n",
    "    words = line.split('^A ')\n",
    "   # print(words)\n",
    "    if any('11=' in s for s in words):\n",
    "        CIOrderID = [x for x in words if '11=' in x][0]\n",
    "        CIOrderID = CIOrderID.split(\"=\")[1]\n",
    "        if any('35=' in t for t in words):\n",
    "            MessageType = [x for x in words if '35=' in x][0]\n",
    "        else: MessageType=\"\"\n",
    "            \n",
    "        if any('55=' in t for t in words):\n",
    "            TickerSymbol = [x for x in words if '55=' in x][0]\n",
    "            TickerSymbol = TickerSymbol.split(\"=\")[1]\n",
    "        else: TickerSymbol=\"\"\n",
    "            \n",
    "        if any('150=' in t for t in words):           \n",
    "            ExecuteType = [x for x in words if '150=' in x][0]\n",
    "        else: ExecuteType =\"\"\n",
    "        \n",
    "        if any('52=' in t for t in words):\n",
    "            SendingTime = [x for x in words if '52=' in x][0]        \n",
    "            SendingTime = SendingTime.split(\"=\")[1]\n",
    "            SendingTime = SendingTime.replace(\"-\",\" \")\n",
    "        else: SendingTime=\"\"\n",
    "            \n",
    "        if any('60=' in t for t in words):\n",
    "            TransactionTime = [x for x in words if '60=' in x][0]        \n",
    "            TransactionTime = TransactionTime.split(\"=\")[1]  \n",
    "            TransactionTime = TransactionTime.replace(\"-\",\" \")\n",
    "        else: TransactionTime=\"\"\n",
    "        \n",
    "        if (len(SendingTime) != 0) & (len(TransactionTime)!=0):\n",
    "            format = '%Y%m%d %H:%M:%S'\n",
    "            latency_delay = abs(datetime.strptime(TransactionTime, format) - datetime.strptime(SendingTime, format)).seconds\n",
    "        else: latency_delay=\"\"\n",
    "        new_list = [CIOrderID,MessageType,TickerSymbol,ExecuteType,SendingTime,TransactionTime,latency_delay]\n",
    "    \n",
    "        df = df.append(pd.Series(new_list, index=col_names),ignore_index=True)\n",
    "    #latency_delay = TransactionTime.split(\"-\")\n",
    "    #df.append(CIOrderID,MessageType,TickerSymbol,ExecuteType,SendingTime,TransactionTime)"
   ]
  },
  {
   "cell_type": "code",
   "execution_count": 180,
   "metadata": {},
   "outputs": [
    {
     "data": {
      "text/html": [
       "<div>\n",
       "<style>\n",
       "    .dataframe thead tr:only-child th {\n",
       "        text-align: right;\n",
       "    }\n",
       "\n",
       "    .dataframe thead th {\n",
       "        text-align: left;\n",
       "    }\n",
       "\n",
       "    .dataframe tbody tr th {\n",
       "        vertical-align: top;\n",
       "    }\n",
       "</style>\n",
       "<table border=\"1\" class=\"dataframe\">\n",
       "  <thead>\n",
       "    <tr style=\"text-align: right;\">\n",
       "      <th></th>\n",
       "      <th>CIOrderID</th>\n",
       "      <th>MsgType</th>\n",
       "      <th>Symbol</th>\n",
       "      <th>ExecType</th>\n",
       "      <th>SendingTime</th>\n",
       "      <th>TranctionTime</th>\n",
       "      <th>Latency (Seconds)</th>\n",
       "    </tr>\n",
       "  </thead>\n",
       "  <tbody>\n",
       "    <tr>\n",
       "      <th>0</th>\n",
       "      <td>NF 0542/03232009</td>\n",
       "      <td>35=D</td>\n",
       "      <td>CVS</td>\n",
       "      <td></td>\n",
       "      <td>20090323 15:40:29</td>\n",
       "      <td>20090323 15:40:29</td>\n",
       "      <td>0</td>\n",
       "    </tr>\n",
       "    <tr>\n",
       "      <th>1</th>\n",
       "      <td>NF 0542/03232009</td>\n",
       "      <td>35=8</td>\n",
       "      <td>CVS</td>\n",
       "      <td>150=0</td>\n",
       "      <td>20090323  15:40:35</td>\n",
       "      <td>20090323  15:40:30</td>\n",
       "      <td>5</td>\n",
       "    </tr>\n",
       "    <tr>\n",
       "      <th>2</th>\n",
       "      <td>NF 0015/02082010</td>\n",
       "      <td>35=D</td>\n",
       "      <td>RRC</td>\n",
       "      <td></td>\n",
       "      <td>20100208 18:51:42</td>\n",
       "      <td></td>\n",
       "      <td></td>\n",
       "    </tr>\n",
       "    <tr>\n",
       "      <th>3</th>\n",
       "      <td>NF 0015/02082010</td>\n",
       "      <td>35=8</td>\n",
       "      <td>RRC</td>\n",
       "      <td>150=0</td>\n",
       "      <td>20100208 18:51:42</td>\n",
       "      <td>20100208 18:51:42</td>\n",
       "      <td>0</td>\n",
       "    </tr>\n",
       "  </tbody>\n",
       "</table>\n",
       "</div>"
      ],
      "text/plain": [
       "          CIOrderID MsgType Symbol ExecType         SendingTime  \\\n",
       "0  NF 0542/03232009    35=D    CVS            20090323 15:40:29   \n",
       "1  NF 0542/03232009    35=8    CVS    150=0  20090323  15:40:35   \n",
       "2  NF 0015/02082010    35=D    RRC            20100208 18:51:42   \n",
       "3  NF 0015/02082010    35=8    RRC    150=0   20100208 18:51:42   \n",
       "\n",
       "        TranctionTime Latency (Seconds)  \n",
       "0   20090323 15:40:29                 0  \n",
       "1  20090323  15:40:30                 5  \n",
       "2                                        \n",
       "3   20100208 18:51:42                 0  "
      ]
     },
     "execution_count": 180,
     "metadata": {},
     "output_type": "execute_result"
    }
   ],
   "source": [
    "df"
   ]
  },
  {
   "cell_type": "code",
   "execution_count": 182,
   "metadata": {},
   "outputs": [
    {
     "data": {
      "text/plain": [
       "'11=NF 0015/02082010'"
      ]
     },
     "execution_count": 182,
     "metadata": {},
     "output_type": "execute_result"
    }
   ],
   "source": [
    "[x for x in words if '11=' in x][0]"
   ]
  },
  {
   "cell_type": "code",
   "execution_count": 95,
   "metadata": {},
   "outputs": [
    {
     "name": "stdout",
     "output_type": "stream",
     "text": [
      "0:00:00\n"
     ]
    }
   ],
   "source": [
    "from datetime import datetime\n",
    "format = '%Y%m%d-%H:%M:%S'\n",
    "print (datetime.strptime(TransactionTime, format) - \n",
    "        datetime.strptime(SendingTime, format))"
   ]
  },
  {
   "cell_type": "code",
   "execution_count": 88,
   "metadata": {},
   "outputs": [
    {
     "data": {
      "text/plain": [
       "'20090323-15:40:29'"
      ]
     },
     "execution_count": 88,
     "metadata": {},
     "output_type": "execute_result"
    }
   ],
   "source": [
    "TransactionTime"
   ]
  },
  {
   "cell_type": "code",
   "execution_count": 99,
   "metadata": {
    "collapsed": true
   },
   "outputs": [],
   "source": [
    "new_list = [CIOrderID,MessageType,TickerSymbol,ExecuteType,SendingTime,TransactionTime,latency_delay]\n"
   ]
  },
  {
   "cell_type": "code",
   "execution_count": 100,
   "metadata": {},
   "outputs": [
    {
     "data": {
      "text/plain": [
       "['NF 0542/03232009',\n",
       " '35=D',\n",
       " 'CVS',\n",
       " '150=0',\n",
       " '20090323-15:40:29',\n",
       " '20090323-15:40:29',\n",
       " datetime.timedelta(0)]"
      ]
     },
     "execution_count": 100,
     "metadata": {},
     "output_type": "execute_result"
    }
   ],
   "source": [
    "new_list"
   ]
  },
  {
   "cell_type": "code",
   "execution_count": 183,
   "metadata": {
    "collapsed": true
   },
   "outputs": [],
   "source": [
    "handler = open(\"FIX_all.txt\")\n",
    "import pandas as pd\n",
    "from datetime import datetime\n",
    "\n",
    "col_names =  ['CIOrderID', 'MsgType', 'Symbol','ExecType','SendingTime','TranctionTime','Latency (Seconds)']\n",
    "\n",
    "df = pd.DataFrame(columns=col_names)\n",
    "\n",
    "for line in handler:\n",
    "    line = line.rstrip()\n",
    "    words = line.split('^A ')\n",
    "   # print(words)\n",
    "    if any('11=' in s for s in words):\n",
    "        CIOrderID = [x for x in words if '11=' in x][0]\n",
    "        CIOrderID = CIOrderID.split(\"=\")[1]\n",
    "        if any('35=' in t for t in words):\n",
    "            MessageType = [x for x in words if '35=' in x][0]\n",
    "        else: MessageType=\"\"\n",
    "            \n",
    "        if any('55=' in t for t in words):\n",
    "            TickerSymbol = [x for x in words if '55=' in x][0]\n",
    "            TickerSymbol = TickerSymbol.split(\"=\")[1]\n",
    "        else: TickerSymbol=\"\"\n",
    "            \n",
    "        if any('150=' in t for t in words):           \n",
    "            ExecuteType = [x for x in words if '150=' in x][0]\n",
    "        else: ExecuteType =\"\"\n",
    "        \n",
    "        if any('52=' in t for t in words):\n",
    "            SendingTime = [x for x in words if '52=' in x][0]        \n",
    "            SendingTime = SendingTime.split(\"=\")[1]\n",
    "            SendingTime = SendingTime.replace(\"-\",\" \")\n",
    "        else: SendingTime=\"\"\n",
    "            \n",
    "        if any('60=' in t for t in words):\n",
    "            TransactionTime = [x for x in words if '60=' in x][0]        \n",
    "            TransactionTime = TransactionTime.split(\"=\")[1]  \n",
    "            TransactionTime = TransactionTime.replace(\"-\",\" \")\n",
    "        else: TransactionTime=\"\"\n",
    "        \n",
    "        if (len(SendingTime) != 0) & (len(TransactionTime)!=0):\n",
    "            format = '%Y%m%d %H:%M:%S'\n",
    "            latency_delay = abs(datetime.strptime(TransactionTime, format) - datetime.strptime(SendingTime, format)).seconds\n",
    "        else: latency_delay=\"\"\n",
    "        new_list = [CIOrderID,MessageType,TickerSymbol,ExecuteType,SendingTime,TransactionTime,latency_delay]\n",
    "    \n",
    "        df = df.append(pd.Series(new_list, index=col_names),ignore_index=True)\n",
    "    #latency_delay = TransactionTime.split(\"-\")\n",
    "    #df.append(CIOrderID,MessageType,TickerSymbol,ExecuteType,SendingTime,TransactionTime)"
   ]
  },
  {
   "cell_type": "code",
   "execution_count": 184,
   "metadata": {},
   "outputs": [
    {
     "data": {
      "text/html": [
       "<div>\n",
       "<style>\n",
       "    .dataframe thead tr:only-child th {\n",
       "        text-align: right;\n",
       "    }\n",
       "\n",
       "    .dataframe thead th {\n",
       "        text-align: left;\n",
       "    }\n",
       "\n",
       "    .dataframe tbody tr th {\n",
       "        vertical-align: top;\n",
       "    }\n",
       "</style>\n",
       "<table border=\"1\" class=\"dataframe\">\n",
       "  <thead>\n",
       "    <tr style=\"text-align: right;\">\n",
       "      <th></th>\n",
       "      <th>CIOrderID</th>\n",
       "      <th>MsgType</th>\n",
       "      <th>Symbol</th>\n",
       "      <th>ExecType</th>\n",
       "      <th>SendingTime</th>\n",
       "      <th>TranctionTime</th>\n",
       "      <th>Latency (Seconds)</th>\n",
       "    </tr>\n",
       "  </thead>\n",
       "  <tbody>\n",
       "    <tr>\n",
       "      <th>0</th>\n",
       "      <td>NF 0542/03232009</td>\n",
       "      <td>35=D</td>\n",
       "      <td>CVS</td>\n",
       "      <td></td>\n",
       "      <td>20090323 15:40:29</td>\n",
       "      <td>20090323 15:40:29</td>\n",
       "      <td>0</td>\n",
       "    </tr>\n",
       "    <tr>\n",
       "      <th>1</th>\n",
       "      <td>NF 0542/03232009</td>\n",
       "      <td>35=8</td>\n",
       "      <td>CVS</td>\n",
       "      <td>150=0</td>\n",
       "      <td>20090323  15:40:35</td>\n",
       "      <td>20090323  15:40:30</td>\n",
       "      <td>5</td>\n",
       "    </tr>\n",
       "    <tr>\n",
       "      <th>2</th>\n",
       "      <td>NF 0015/02082010</td>\n",
       "      <td>35=D</td>\n",
       "      <td>RRC</td>\n",
       "      <td></td>\n",
       "      <td>20100208 18:51:42</td>\n",
       "      <td></td>\n",
       "      <td></td>\n",
       "    </tr>\n",
       "    <tr>\n",
       "      <th>3</th>\n",
       "      <td>NF 0015/02082010</td>\n",
       "      <td>35=8</td>\n",
       "      <td>RRC</td>\n",
       "      <td>150=0</td>\n",
       "      <td>20100208 18:51:42</td>\n",
       "      <td>20100208 18:51:42</td>\n",
       "      <td>0</td>\n",
       "    </tr>\n",
       "    <tr>\n",
       "      <th>4</th>\n",
       "      <td>NF 0921/12162009</td>\n",
       "      <td>35=D</td>\n",
       "      <td>MMM</td>\n",
       "      <td></td>\n",
       "      <td>20091216 17:23:52</td>\n",
       "      <td></td>\n",
       "      <td></td>\n",
       "    </tr>\n",
       "    <tr>\n",
       "      <th>5</th>\n",
       "      <td>NF 0921/12162009</td>\n",
       "      <td>35=8</td>\n",
       "      <td>MMM</td>\n",
       "      <td>150=0</td>\n",
       "      <td>20091216 17:23:51</td>\n",
       "      <td>20091216 17:23:52</td>\n",
       "      <td>1</td>\n",
       "    </tr>\n",
       "    <tr>\n",
       "      <th>6</th>\n",
       "      <td>NF 0016/02082010</td>\n",
       "      <td>35=D</td>\n",
       "      <td>VOD</td>\n",
       "      <td></td>\n",
       "      <td>20100208 19:36:45</td>\n",
       "      <td></td>\n",
       "      <td></td>\n",
       "    </tr>\n",
       "    <tr>\n",
       "      <th>7</th>\n",
       "      <td>NF 0016/02082010</td>\n",
       "      <td>35=8</td>\n",
       "      <td>VOD</td>\n",
       "      <td>150=0</td>\n",
       "      <td>20100208 19:36:45</td>\n",
       "      <td>20100208 19:36:45</td>\n",
       "      <td>0</td>\n",
       "    </tr>\n",
       "    <tr>\n",
       "      <th>8</th>\n",
       "      <td>NF 0040/03022010</td>\n",
       "      <td>35=D</td>\n",
       "      <td>IOC</td>\n",
       "      <td></td>\n",
       "      <td>20100302 22:50:34</td>\n",
       "      <td></td>\n",
       "      <td></td>\n",
       "    </tr>\n",
       "    <tr>\n",
       "      <th>9</th>\n",
       "      <td>NF 0041/03032010</td>\n",
       "      <td>35=D</td>\n",
       "      <td>MMM</td>\n",
       "      <td></td>\n",
       "      <td>20100303 15:17:05</td>\n",
       "      <td></td>\n",
       "      <td></td>\n",
       "    </tr>\n",
       "    <tr>\n",
       "      <th>10</th>\n",
       "      <td>NF 0043/03032010</td>\n",
       "      <td>35=D</td>\n",
       "      <td>ADM</td>\n",
       "      <td></td>\n",
       "      <td>20100303 15:21:52</td>\n",
       "      <td></td>\n",
       "      <td></td>\n",
       "    </tr>\n",
       "    <tr>\n",
       "      <th>11</th>\n",
       "      <td>NF 0045/03032010</td>\n",
       "      <td>35=D</td>\n",
       "      <td>AXU</td>\n",
       "      <td></td>\n",
       "      <td>20100303 15:38:27</td>\n",
       "      <td></td>\n",
       "      <td></td>\n",
       "    </tr>\n",
       "    <tr>\n",
       "      <th>12</th>\n",
       "      <td>NF 0048/03032010</td>\n",
       "      <td>35=D</td>\n",
       "      <td>JZE</td>\n",
       "      <td></td>\n",
       "      <td>20100303 16:23:34</td>\n",
       "      <td></td>\n",
       "      <td></td>\n",
       "    </tr>\n",
       "    <tr>\n",
       "      <th>13</th>\n",
       "      <td>NF 0050/03032010</td>\n",
       "      <td>35=D</td>\n",
       "      <td>MMM</td>\n",
       "      <td></td>\n",
       "      <td>20100303 20:31:56</td>\n",
       "      <td></td>\n",
       "      <td></td>\n",
       "    </tr>\n",
       "    <tr>\n",
       "      <th>14</th>\n",
       "      <td>NF 0542/03232009</td>\n",
       "      <td>35=8</td>\n",
       "      <td>CVS</td>\n",
       "      <td>150=2</td>\n",
       "      <td>20090323  15:40:35</td>\n",
       "      <td>20090323 15:40:30</td>\n",
       "      <td>5</td>\n",
       "    </tr>\n",
       "    <tr>\n",
       "      <th>15</th>\n",
       "      <td>NF 0568/03252009</td>\n",
       "      <td>35=8</td>\n",
       "      <td>CVS</td>\n",
       "      <td>150=1</td>\n",
       "      <td>20090325  14:28:10</td>\n",
       "      <td>20090325 14:28:12</td>\n",
       "      <td>2</td>\n",
       "    </tr>\n",
       "    <tr>\n",
       "      <th>16</th>\n",
       "      <td>NF 0568/03252009</td>\n",
       "      <td>35=8</td>\n",
       "      <td>CVS</td>\n",
       "      <td>150=2</td>\n",
       "      <td>20090325  14:28:10</td>\n",
       "      <td>20090325 14:28:12</td>\n",
       "      <td>2</td>\n",
       "    </tr>\n",
       "    <tr>\n",
       "      <th>17</th>\n",
       "      <td>NF 0960/01282010</td>\n",
       "      <td>35=8</td>\n",
       "      <td>IOC</td>\n",
       "      <td>150=3</td>\n",
       "      <td>20100128  18:54:59</td>\n",
       "      <td>20100128 18:55:00</td>\n",
       "      <td>1</td>\n",
       "    </tr>\n",
       "    <tr>\n",
       "      <th>18</th>\n",
       "      <td>NF 0015/02082010</td>\n",
       "      <td>35=8</td>\n",
       "      <td>RRC</td>\n",
       "      <td>150=2</td>\n",
       "      <td>20100208  18:52:05</td>\n",
       "      <td>20100208 18:52:06</td>\n",
       "      <td>1</td>\n",
       "    </tr>\n",
       "    <tr>\n",
       "      <th>19</th>\n",
       "      <td>NF 0921/12162009</td>\n",
       "      <td>35=8</td>\n",
       "      <td>MMM</td>\n",
       "      <td>150=2</td>\n",
       "      <td>20091216 18:00:24</td>\n",
       "      <td>20091216 18:00:25</td>\n",
       "      <td>1</td>\n",
       "    </tr>\n",
       "    <tr>\n",
       "      <th>20</th>\n",
       "      <td>NF 0016/02082010</td>\n",
       "      <td>35=8</td>\n",
       "      <td>VOD</td>\n",
       "      <td>150=2</td>\n",
       "      <td>20100208 19:36:45</td>\n",
       "      <td>20100208 19:36:45</td>\n",
       "      <td>0</td>\n",
       "    </tr>\n",
       "    <tr>\n",
       "      <th>21</th>\n",
       "      <td>NF 0049/03032010</td>\n",
       "      <td>35=8</td>\n",
       "      <td>MMM</td>\n",
       "      <td>150=2</td>\n",
       "      <td>20100303  16:31:36</td>\n",
       "      <td>20100303 16:31:37</td>\n",
       "      <td>1</td>\n",
       "    </tr>\n",
       "    <tr>\n",
       "      <th>22</th>\n",
       "      <td>NF 0565/03252009</td>\n",
       "      <td>35=D</td>\n",
       "      <td>CVS</td>\n",
       "      <td></td>\n",
       "      <td>20090325 14:26:15</td>\n",
       "      <td>20090325 14:26:15</td>\n",
       "      <td>0</td>\n",
       "    </tr>\n",
       "    <tr>\n",
       "      <th>23</th>\n",
       "      <td>NF 0569/03252009</td>\n",
       "      <td>35=F</td>\n",
       "      <td>CVS</td>\n",
       "      <td></td>\n",
       "      <td>20090325 14:36:17</td>\n",
       "      <td>20090325 14:36:17</td>\n",
       "      <td>0</td>\n",
       "    </tr>\n",
       "    <tr>\n",
       "      <th>24</th>\n",
       "      <td>NF 0569/03252009</td>\n",
       "      <td>35=8</td>\n",
       "      <td>CVS</td>\n",
       "      <td>150=6</td>\n",
       "      <td>20090325  14:36:18</td>\n",
       "      <td>20090325 14:36:20</td>\n",
       "      <td>2</td>\n",
       "    </tr>\n",
       "    <tr>\n",
       "      <th>25</th>\n",
       "      <td>NF 0569/03252009</td>\n",
       "      <td>35=8</td>\n",
       "      <td>CVS</td>\n",
       "      <td>150=4</td>\n",
       "      <td>20090325  14:36:18</td>\n",
       "      <td>20090325 14:36:20</td>\n",
       "      <td>2</td>\n",
       "    </tr>\n",
       "    <tr>\n",
       "      <th>26</th>\n",
       "      <td>NF 0570/03252009</td>\n",
       "      <td>35=D</td>\n",
       "      <td>CVS</td>\n",
       "      <td></td>\n",
       "      <td>20090325 15:08:17</td>\n",
       "      <td>20090325 15:08:17</td>\n",
       "      <td>0</td>\n",
       "    </tr>\n",
       "    <tr>\n",
       "      <th>27</th>\n",
       "      <td>NF 0571/03252009</td>\n",
       "      <td>35=F</td>\n",
       "      <td>CVS</td>\n",
       "      <td></td>\n",
       "      <td>20090325 15:08:50</td>\n",
       "      <td>20090325 15:08:50</td>\n",
       "      <td>0</td>\n",
       "    </tr>\n",
       "    <tr>\n",
       "      <th>28</th>\n",
       "      <td>NF 0571/03252009</td>\n",
       "      <td>35=8</td>\n",
       "      <td>CVS</td>\n",
       "      <td>150=6</td>\n",
       "      <td>20090325  15:08:50</td>\n",
       "      <td>20090325 15:08:50</td>\n",
       "      <td>0</td>\n",
       "    </tr>\n",
       "    <tr>\n",
       "      <th>29</th>\n",
       "      <td>NF 0571/03252009</td>\n",
       "      <td>35=8</td>\n",
       "      <td>CVS</td>\n",
       "      <td>150=5</td>\n",
       "      <td>20090325  15:08:50</td>\n",
       "      <td>20090325 15:08:50</td>\n",
       "      <td>0</td>\n",
       "    </tr>\n",
       "    <tr>\n",
       "      <th>...</th>\n",
       "      <td>...</td>\n",
       "      <td>...</td>\n",
       "      <td>...</td>\n",
       "      <td>...</td>\n",
       "      <td>...</td>\n",
       "      <td>...</td>\n",
       "      <td>...</td>\n",
       "    </tr>\n",
       "    <tr>\n",
       "      <th>33</th>\n",
       "      <td>NF 0573/03252009</td>\n",
       "      <td>35=D</td>\n",
       "      <td>CVS</td>\n",
       "      <td></td>\n",
       "      <td>20090325 15:14:27</td>\n",
       "      <td>20090325 15:14:27</td>\n",
       "      <td>0</td>\n",
       "    </tr>\n",
       "    <tr>\n",
       "      <th>34</th>\n",
       "      <td>NF 0574/03252009</td>\n",
       "      <td>35=G</td>\n",
       "      <td>CVS</td>\n",
       "      <td></td>\n",
       "      <td>20090325 15:14:47</td>\n",
       "      <td>20090325 15:14:47</td>\n",
       "      <td>0</td>\n",
       "    </tr>\n",
       "    <tr>\n",
       "      <th>35</th>\n",
       "      <td>NF 0574/03252009</td>\n",
       "      <td>35=8</td>\n",
       "      <td>CVS</td>\n",
       "      <td>150=E</td>\n",
       "      <td>20090325  15:14:47</td>\n",
       "      <td>20090325 15:14:48</td>\n",
       "      <td>1</td>\n",
       "    </tr>\n",
       "    <tr>\n",
       "      <th>36</th>\n",
       "      <td>NF 0574/03252009</td>\n",
       "      <td>35=8</td>\n",
       "      <td>CVS</td>\n",
       "      <td>150=5</td>\n",
       "      <td>20090325  15:14:47</td>\n",
       "      <td>20090325 15:14:48</td>\n",
       "      <td>1</td>\n",
       "    </tr>\n",
       "    <tr>\n",
       "      <th>37</th>\n",
       "      <td>NF 0575/03252009</td>\n",
       "      <td>35=G</td>\n",
       "      <td>CVS</td>\n",
       "      <td></td>\n",
       "      <td>20090325 15:15:04</td>\n",
       "      <td>20090325 15:15:04</td>\n",
       "      <td>0</td>\n",
       "    </tr>\n",
       "    <tr>\n",
       "      <th>38</th>\n",
       "      <td>NF 0575/03252009</td>\n",
       "      <td>35=8</td>\n",
       "      <td>CVS</td>\n",
       "      <td>150=E</td>\n",
       "      <td>20090325  15:15:04</td>\n",
       "      <td>20090325 15:15:05</td>\n",
       "      <td>1</td>\n",
       "    </tr>\n",
       "    <tr>\n",
       "      <th>39</th>\n",
       "      <td>NF 0575/03252009</td>\n",
       "      <td>35=8</td>\n",
       "      <td>CVS</td>\n",
       "      <td>150=5</td>\n",
       "      <td>20090325  15:15:04</td>\n",
       "      <td>20090325 15:15:05</td>\n",
       "      <td>1</td>\n",
       "    </tr>\n",
       "    <tr>\n",
       "      <th>40</th>\n",
       "      <td>NF 0576/03252009</td>\n",
       "      <td>35=D</td>\n",
       "      <td>CVS</td>\n",
       "      <td></td>\n",
       "      <td>20090325 15:19:49</td>\n",
       "      <td>20090325 15:19:49</td>\n",
       "      <td>0</td>\n",
       "    </tr>\n",
       "    <tr>\n",
       "      <th>41</th>\n",
       "      <td>NF 0577/03252009</td>\n",
       "      <td>35=F</td>\n",
       "      <td>CVS</td>\n",
       "      <td></td>\n",
       "      <td>20090325 15:20:13</td>\n",
       "      <td>20090325 15:20:13</td>\n",
       "      <td>0</td>\n",
       "    </tr>\n",
       "    <tr>\n",
       "      <th>42</th>\n",
       "      <td>NF 0577/03252009</td>\n",
       "      <td>35=8</td>\n",
       "      <td>CVS</td>\n",
       "      <td>150=6</td>\n",
       "      <td>20090325  15:20:14</td>\n",
       "      <td>20090325 15:20:15</td>\n",
       "      <td>1</td>\n",
       "    </tr>\n",
       "    <tr>\n",
       "      <th>43</th>\n",
       "      <td>NF 0577/03252009</td>\n",
       "      <td>35=8</td>\n",
       "      <td>CVS</td>\n",
       "      <td>150=5</td>\n",
       "      <td>20090325  15:20:14</td>\n",
       "      <td>20090325 15:20:15</td>\n",
       "      <td>1</td>\n",
       "    </tr>\n",
       "    <tr>\n",
       "      <th>44</th>\n",
       "      <td>NF 0578/03252009</td>\n",
       "      <td>35=G</td>\n",
       "      <td>CVS</td>\n",
       "      <td></td>\n",
       "      <td>20090325 15:20:32</td>\n",
       "      <td>20090325 15:20:32</td>\n",
       "      <td>0</td>\n",
       "    </tr>\n",
       "    <tr>\n",
       "      <th>45</th>\n",
       "      <td>NF 0578/03252009</td>\n",
       "      <td>35=8</td>\n",
       "      <td>CVS</td>\n",
       "      <td>150=E</td>\n",
       "      <td>20090325  15:20:33</td>\n",
       "      <td>20090325 15:20:34</td>\n",
       "      <td>1</td>\n",
       "    </tr>\n",
       "    <tr>\n",
       "      <th>46</th>\n",
       "      <td>NF 0578/03252009</td>\n",
       "      <td>35=8</td>\n",
       "      <td>CVS</td>\n",
       "      <td>150=5</td>\n",
       "      <td>20090325  15:20:33</td>\n",
       "      <td>20090325 15:20:34</td>\n",
       "      <td>1</td>\n",
       "    </tr>\n",
       "    <tr>\n",
       "      <th>47</th>\n",
       "      <td>NF 0644/04022009</td>\n",
       "      <td>35=D</td>\n",
       "      <td>PAC</td>\n",
       "      <td></td>\n",
       "      <td>20090402 18:11:47</td>\n",
       "      <td>20090402 18:11:47</td>\n",
       "      <td>0</td>\n",
       "    </tr>\n",
       "    <tr>\n",
       "      <th>48</th>\n",
       "      <td>NF 0644/04022009</td>\n",
       "      <td>35=8</td>\n",
       "      <td>PAC</td>\n",
       "      <td>150=0</td>\n",
       "      <td>20090402  18:11:47</td>\n",
       "      <td>20090402  18:11:47</td>\n",
       "      <td>0</td>\n",
       "    </tr>\n",
       "    <tr>\n",
       "      <th>49</th>\n",
       "      <td>NF 0644/04022009</td>\n",
       "      <td>35=8</td>\n",
       "      <td>PAC</td>\n",
       "      <td>150=2</td>\n",
       "      <td>20090402  18:20:08</td>\n",
       "      <td>20090402 18:20:06</td>\n",
       "      <td>2</td>\n",
       "    </tr>\n",
       "    <tr>\n",
       "      <th>50</th>\n",
       "      <td>NF 0644/04022009</td>\n",
       "      <td>35=8</td>\n",
       "      <td>PAC</td>\n",
       "      <td>150=2</td>\n",
       "      <td>20090402  18:20:29</td>\n",
       "      <td>20090402 18:20:28</td>\n",
       "      <td>1</td>\n",
       "    </tr>\n",
       "    <tr>\n",
       "      <th>51</th>\n",
       "      <td>NF 0644/04022009</td>\n",
       "      <td>35=8</td>\n",
       "      <td>PAC</td>\n",
       "      <td>150=1</td>\n",
       "      <td>20090402  18:20:41</td>\n",
       "      <td>20090402 18:20:40</td>\n",
       "      <td>1</td>\n",
       "    </tr>\n",
       "    <tr>\n",
       "      <th>52</th>\n",
       "      <td>NF 0039/03022010</td>\n",
       "      <td>35=D</td>\n",
       "      <td>IOC</td>\n",
       "      <td></td>\n",
       "      <td>20100302 21:57:44</td>\n",
       "      <td></td>\n",
       "      <td></td>\n",
       "    </tr>\n",
       "    <tr>\n",
       "      <th>53</th>\n",
       "      <td>NF 0039/03022010</td>\n",
       "      <td>35=8</td>\n",
       "      <td>IOC</td>\n",
       "      <td>150=0</td>\n",
       "      <td>20100302  21:57:44</td>\n",
       "      <td>20100302  21:57:44</td>\n",
       "      <td>0</td>\n",
       "    </tr>\n",
       "    <tr>\n",
       "      <th>54</th>\n",
       "      <td>NF 0039/03022010</td>\n",
       "      <td>35=8</td>\n",
       "      <td>IOC</td>\n",
       "      <td>150=2</td>\n",
       "      <td>20100302  21:57:44</td>\n",
       "      <td>20100302 21:57:44</td>\n",
       "      <td>0</td>\n",
       "    </tr>\n",
       "    <tr>\n",
       "      <th>55</th>\n",
       "      <td>NF 0039/03022010</td>\n",
       "      <td>35=8</td>\n",
       "      <td>IOC</td>\n",
       "      <td>150=2</td>\n",
       "      <td>20100302  22:36:15</td>\n",
       "      <td>20100302 22:36:16</td>\n",
       "      <td>1</td>\n",
       "    </tr>\n",
       "    <tr>\n",
       "      <th>56</th>\n",
       "      <td>NF 0039/03022010</td>\n",
       "      <td>35=8</td>\n",
       "      <td>IOC</td>\n",
       "      <td>150=2</td>\n",
       "      <td>20100302  22:38:59</td>\n",
       "      <td>20100302 22:36:16</td>\n",
       "      <td>163</td>\n",
       "    </tr>\n",
       "    <tr>\n",
       "      <th>57</th>\n",
       "      <td>NF 0645/04022009</td>\n",
       "      <td>35=D</td>\n",
       "      <td>PAC</td>\n",
       "      <td></td>\n",
       "      <td>20090402 18:12:15</td>\n",
       "      <td>20090402 18:12:15</td>\n",
       "      <td>0</td>\n",
       "    </tr>\n",
       "    <tr>\n",
       "      <th>58</th>\n",
       "      <td>NF 0645/04022009</td>\n",
       "      <td>35=8</td>\n",
       "      <td>PAC</td>\n",
       "      <td>150=0</td>\n",
       "      <td>20090402  18:12:15</td>\n",
       "      <td>20090402 18:12:15</td>\n",
       "      <td>0</td>\n",
       "    </tr>\n",
       "    <tr>\n",
       "      <th>59</th>\n",
       "      <td>NF 0645/04022009</td>\n",
       "      <td>35=8</td>\n",
       "      <td>PAC</td>\n",
       "      <td>150=2</td>\n",
       "      <td>20090402  18:13:13</td>\n",
       "      <td>20090402 18:13:11</td>\n",
       "      <td>2</td>\n",
       "    </tr>\n",
       "    <tr>\n",
       "      <th>60</th>\n",
       "      <td>NF 0646/04022009</td>\n",
       "      <td>35=D</td>\n",
       "      <td>PAC</td>\n",
       "      <td></td>\n",
       "      <td>20090402 18:15:40</td>\n",
       "      <td>20090402 18:15:40</td>\n",
       "      <td>0</td>\n",
       "    </tr>\n",
       "    <tr>\n",
       "      <th>61</th>\n",
       "      <td>NF 0646/04022009</td>\n",
       "      <td>35=8</td>\n",
       "      <td>PAC</td>\n",
       "      <td>150=0</td>\n",
       "      <td>20090402 18:15:46</td>\n",
       "      <td></td>\n",
       "      <td></td>\n",
       "    </tr>\n",
       "    <tr>\n",
       "      <th>62</th>\n",
       "      <td>NF 0646/04022009</td>\n",
       "      <td>35=8</td>\n",
       "      <td>PAC</td>\n",
       "      <td>150=2</td>\n",
       "      <td>20090402 18:16:29</td>\n",
       "      <td>20090402 18:16:17</td>\n",
       "      <td>12</td>\n",
       "    </tr>\n",
       "  </tbody>\n",
       "</table>\n",
       "<p>63 rows × 7 columns</p>\n",
       "</div>"
      ],
      "text/plain": [
       "           CIOrderID MsgType Symbol ExecType         SendingTime  \\\n",
       "0   NF 0542/03232009    35=D    CVS            20090323 15:40:29   \n",
       "1   NF 0542/03232009    35=8    CVS    150=0  20090323  15:40:35   \n",
       "2   NF 0015/02082010    35=D    RRC            20100208 18:51:42   \n",
       "3   NF 0015/02082010    35=8    RRC    150=0   20100208 18:51:42   \n",
       "4   NF 0921/12162009    35=D    MMM            20091216 17:23:52   \n",
       "5   NF 0921/12162009    35=8    MMM    150=0   20091216 17:23:51   \n",
       "6   NF 0016/02082010    35=D    VOD            20100208 19:36:45   \n",
       "7   NF 0016/02082010    35=8    VOD    150=0   20100208 19:36:45   \n",
       "8   NF 0040/03022010    35=D    IOC            20100302 22:50:34   \n",
       "9   NF 0041/03032010    35=D    MMM            20100303 15:17:05   \n",
       "10  NF 0043/03032010    35=D    ADM            20100303 15:21:52   \n",
       "11  NF 0045/03032010    35=D    AXU            20100303 15:38:27   \n",
       "12  NF 0048/03032010    35=D    JZE            20100303 16:23:34   \n",
       "13  NF 0050/03032010    35=D    MMM            20100303 20:31:56   \n",
       "14  NF 0542/03232009    35=8    CVS    150=2  20090323  15:40:35   \n",
       "15  NF 0568/03252009    35=8    CVS    150=1  20090325  14:28:10   \n",
       "16  NF 0568/03252009    35=8    CVS    150=2  20090325  14:28:10   \n",
       "17  NF 0960/01282010    35=8    IOC    150=3  20100128  18:54:59   \n",
       "18  NF 0015/02082010    35=8    RRC    150=2  20100208  18:52:05   \n",
       "19  NF 0921/12162009    35=8    MMM    150=2   20091216 18:00:24   \n",
       "20  NF 0016/02082010    35=8    VOD    150=2   20100208 19:36:45   \n",
       "21  NF 0049/03032010    35=8    MMM    150=2  20100303  16:31:36   \n",
       "22  NF 0565/03252009    35=D    CVS            20090325 14:26:15   \n",
       "23  NF 0569/03252009    35=F    CVS            20090325 14:36:17   \n",
       "24  NF 0569/03252009    35=8    CVS    150=6  20090325  14:36:18   \n",
       "25  NF 0569/03252009    35=8    CVS    150=4  20090325  14:36:18   \n",
       "26  NF 0570/03252009    35=D    CVS            20090325 15:08:17   \n",
       "27  NF 0571/03252009    35=F    CVS            20090325 15:08:50   \n",
       "28  NF 0571/03252009    35=8    CVS    150=6  20090325  15:08:50   \n",
       "29  NF 0571/03252009    35=8    CVS    150=5  20090325  15:08:50   \n",
       "..               ...     ...    ...      ...                 ...   \n",
       "33  NF 0573/03252009    35=D    CVS            20090325 15:14:27   \n",
       "34  NF 0574/03252009    35=G    CVS            20090325 15:14:47   \n",
       "35  NF 0574/03252009    35=8    CVS    150=E  20090325  15:14:47   \n",
       "36  NF 0574/03252009    35=8    CVS    150=5  20090325  15:14:47   \n",
       "37  NF 0575/03252009    35=G    CVS            20090325 15:15:04   \n",
       "38  NF 0575/03252009    35=8    CVS    150=E  20090325  15:15:04   \n",
       "39  NF 0575/03252009    35=8    CVS    150=5  20090325  15:15:04   \n",
       "40  NF 0576/03252009    35=D    CVS            20090325 15:19:49   \n",
       "41  NF 0577/03252009    35=F    CVS            20090325 15:20:13   \n",
       "42  NF 0577/03252009    35=8    CVS    150=6  20090325  15:20:14   \n",
       "43  NF 0577/03252009    35=8    CVS    150=5  20090325  15:20:14   \n",
       "44  NF 0578/03252009    35=G    CVS            20090325 15:20:32   \n",
       "45  NF 0578/03252009    35=8    CVS    150=E  20090325  15:20:33   \n",
       "46  NF 0578/03252009    35=8    CVS    150=5  20090325  15:20:33   \n",
       "47  NF 0644/04022009    35=D    PAC            20090402 18:11:47   \n",
       "48  NF 0644/04022009    35=8    PAC    150=0  20090402  18:11:47   \n",
       "49  NF 0644/04022009    35=8    PAC    150=2  20090402  18:20:08   \n",
       "50  NF 0644/04022009    35=8    PAC    150=2  20090402  18:20:29   \n",
       "51  NF 0644/04022009    35=8    PAC    150=1  20090402  18:20:41   \n",
       "52  NF 0039/03022010    35=D    IOC            20100302 21:57:44   \n",
       "53  NF 0039/03022010    35=8    IOC    150=0  20100302  21:57:44   \n",
       "54  NF 0039/03022010    35=8    IOC    150=2  20100302  21:57:44   \n",
       "55  NF 0039/03022010    35=8    IOC    150=2  20100302  22:36:15   \n",
       "56  NF 0039/03022010    35=8    IOC    150=2  20100302  22:38:59   \n",
       "57  NF 0645/04022009    35=D    PAC            20090402 18:12:15   \n",
       "58  NF 0645/04022009    35=8    PAC    150=0  20090402  18:12:15   \n",
       "59  NF 0645/04022009    35=8    PAC    150=2  20090402  18:13:13   \n",
       "60  NF 0646/04022009    35=D    PAC            20090402 18:15:40   \n",
       "61  NF 0646/04022009    35=8    PAC    150=0   20090402 18:15:46   \n",
       "62  NF 0646/04022009    35=8    PAC    150=2   20090402 18:16:29   \n",
       "\n",
       "         TranctionTime Latency (Seconds)  \n",
       "0    20090323 15:40:29                 0  \n",
       "1   20090323  15:40:30                 5  \n",
       "2                                         \n",
       "3    20100208 18:51:42                 0  \n",
       "4                                         \n",
       "5    20091216 17:23:52                 1  \n",
       "6                                         \n",
       "7    20100208 19:36:45                 0  \n",
       "8                                         \n",
       "9                                         \n",
       "10                                        \n",
       "11                                        \n",
       "12                                        \n",
       "13                                        \n",
       "14   20090323 15:40:30                 5  \n",
       "15   20090325 14:28:12                 2  \n",
       "16   20090325 14:28:12                 2  \n",
       "17   20100128 18:55:00                 1  \n",
       "18   20100208 18:52:06                 1  \n",
       "19   20091216 18:00:25                 1  \n",
       "20   20100208 19:36:45                 0  \n",
       "21   20100303 16:31:37                 1  \n",
       "22   20090325 14:26:15                 0  \n",
       "23   20090325 14:36:17                 0  \n",
       "24   20090325 14:36:20                 2  \n",
       "25   20090325 14:36:20                 2  \n",
       "26   20090325 15:08:17                 0  \n",
       "27   20090325 15:08:50                 0  \n",
       "28   20090325 15:08:50                 0  \n",
       "29   20090325 15:08:50                 0  \n",
       "..                 ...               ...  \n",
       "33   20090325 15:14:27                 0  \n",
       "34   20090325 15:14:47                 0  \n",
       "35   20090325 15:14:48                 1  \n",
       "36   20090325 15:14:48                 1  \n",
       "37   20090325 15:15:04                 0  \n",
       "38   20090325 15:15:05                 1  \n",
       "39   20090325 15:15:05                 1  \n",
       "40   20090325 15:19:49                 0  \n",
       "41   20090325 15:20:13                 0  \n",
       "42   20090325 15:20:15                 1  \n",
       "43   20090325 15:20:15                 1  \n",
       "44   20090325 15:20:32                 0  \n",
       "45   20090325 15:20:34                 1  \n",
       "46   20090325 15:20:34                 1  \n",
       "47   20090402 18:11:47                 0  \n",
       "48  20090402  18:11:47                 0  \n",
       "49   20090402 18:20:06                 2  \n",
       "50   20090402 18:20:28                 1  \n",
       "51   20090402 18:20:40                 1  \n",
       "52                                        \n",
       "53  20100302  21:57:44                 0  \n",
       "54   20100302 21:57:44                 0  \n",
       "55   20100302 22:36:16                 1  \n",
       "56   20100302 22:36:16               163  \n",
       "57   20090402 18:12:15                 0  \n",
       "58   20090402 18:12:15                 0  \n",
       "59   20090402 18:13:11                 2  \n",
       "60   20090402 18:15:40                 0  \n",
       "61                                        \n",
       "62   20090402 18:16:17                12  \n",
       "\n",
       "[63 rows x 7 columns]"
      ]
     },
     "execution_count": 184,
     "metadata": {},
     "output_type": "execute_result"
    }
   ],
   "source": [
    "df"
   ]
  },
  {
   "cell_type": "code",
   "execution_count": null,
   "metadata": {
    "collapsed": true
   },
   "outputs": [],
   "source": []
  },
  {
   "cell_type": "code",
   "execution_count": null,
   "metadata": {
    "collapsed": true
   },
   "outputs": [],
   "source": []
  },
  {
   "cell_type": "code",
   "execution_count": null,
   "metadata": {
    "collapsed": true
   },
   "outputs": [],
   "source": []
  },
  {
   "cell_type": "code",
   "execution_count": null,
   "metadata": {
    "collapsed": true
   },
   "outputs": [],
   "source": []
  },
  {
   "cell_type": "code",
   "execution_count": null,
   "metadata": {
    "collapsed": true
   },
   "outputs": [],
   "source": []
  },
  {
   "cell_type": "code",
   "execution_count": null,
   "metadata": {
    "collapsed": true
   },
   "outputs": [],
   "source": []
  },
  {
   "cell_type": "code",
   "execution_count": null,
   "metadata": {
    "collapsed": true
   },
   "outputs": [],
   "source": []
  },
  {
   "cell_type": "code",
   "execution_count": null,
   "metadata": {
    "collapsed": true
   },
   "outputs": [],
   "source": []
  },
  {
   "cell_type": "code",
   "execution_count": null,
   "metadata": {
    "collapsed": true
   },
   "outputs": [],
   "source": []
  },
  {
   "cell_type": "code",
   "execution_count": null,
   "metadata": {
    "collapsed": true
   },
   "outputs": [],
   "source": []
  },
  {
   "cell_type": "code",
   "execution_count": null,
   "metadata": {
    "collapsed": true
   },
   "outputs": [],
   "source": []
  },
  {
   "cell_type": "code",
   "execution_count": null,
   "metadata": {
    "collapsed": true
   },
   "outputs": [],
   "source": []
  },
  {
   "cell_type": "code",
   "execution_count": null,
   "metadata": {
    "collapsed": true
   },
   "outputs": [],
   "source": []
  },
  {
   "cell_type": "code",
   "execution_count": null,
   "metadata": {
    "collapsed": true
   },
   "outputs": [],
   "source": []
  },
  {
   "cell_type": "code",
   "execution_count": null,
   "metadata": {
    "collapsed": true
   },
   "outputs": [],
   "source": []
  },
  {
   "cell_type": "code",
   "execution_count": null,
   "metadata": {
    "collapsed": true
   },
   "outputs": [],
   "source": []
  }
 ],
 "metadata": {
  "kernelspec": {
   "display_name": "Python 3",
   "language": "python",
   "name": "python3"
  },
  "language_info": {
   "codemirror_mode": {
    "name": "ipython",
    "version": 3
   },
   "file_extension": ".py",
   "mimetype": "text/x-python",
   "name": "python",
   "nbconvert_exporter": "python",
   "pygments_lexer": "ipython3",
   "version": "3.6.3"
  }
 },
 "nbformat": 4,
 "nbformat_minor": 2
}
