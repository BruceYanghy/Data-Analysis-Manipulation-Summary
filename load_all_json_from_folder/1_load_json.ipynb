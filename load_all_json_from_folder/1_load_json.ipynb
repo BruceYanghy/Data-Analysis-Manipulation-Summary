{
 "cells": [
  {
   "cell_type": "code",
   "execution_count": 1,
   "metadata": {
    "collapsed": true
   },
   "outputs": [],
   "source": [
    "import os, json\n",
    "import pandas as pd"
   ]
  },
  {
   "cell_type": "markdown",
   "metadata": {},
   "source": [
    "##  Function as a generator to load all files in all sub-folders under the parent directory "
   ]
  },
  {
   "cell_type": "code",
   "execution_count": 2,
   "metadata": {},
   "outputs": [],
   "source": [
    "def list_files(dirpath):\n",
    "    for dirname, dirnames, filenames in os.walk(dirpath):\n",
    "        for filename in filenames:\n",
    "            yield os.path.join(dirname, filename)"
   ]
  },
  {
   "cell_type": "markdown",
   "metadata": {},
   "source": [
    "## Load all .json files use json.loads(), basically each .json file only contains 1 line"
   ]
  },
  {
   "cell_type": "code",
   "execution_count": 3,
   "metadata": {},
   "outputs": [
    {
     "name": "stdout",
     "output_type": "stream",
     "text": [
      "CPU times: user 42.8 s, sys: 36.4 s, total: 1min 19s\n",
      "Wall time: 2min 41s\n"
     ]
    }
   ],
   "source": [
    "%%time\n",
    "json_list = []\n",
    "dirpath = 'us-financial-news-articles/'\n",
    "for filePath in list_files(dirpath):\n",
    "    if filePath.endswith('.json'):\n",
    "        with open(filePath) as f:\n",
    "            for line in f:\n",
    "                data = json.loads(line)\n",
    "                json_list.append([data['published'],\n",
    "                                  data['thread']['site'],\n",
    "                                  data['title'], \n",
    "                                  data['text'],\n",
    "                                  data['url']])\n",
    "    "
   ]
  },
  {
   "cell_type": "markdown",
   "metadata": {},
   "source": [
    "## Make sure the length of json list matches the total files"
   ]
  },
  {
   "cell_type": "code",
   "execution_count": 4,
   "metadata": {},
   "outputs": [
    {
     "data": {
      "text/plain": [
       "306242"
      ]
     },
     "execution_count": 4,
     "metadata": {},
     "output_type": "execute_result"
    }
   ],
   "source": [
    "len(json_list)"
   ]
  },
  {
   "cell_type": "markdown",
   "metadata": {},
   "source": [
    "## Convert Json to DataFrame in order to perform data analysis"
   ]
  },
  {
   "cell_type": "code",
   "execution_count": 5,
   "metadata": {
    "collapsed": true
   },
   "outputs": [],
   "source": [
    "col_names =  ['published_date','source_name','title','body','url']\n",
    "df= pd.DataFrame(json_list,columns=col_names)"
   ]
  },
  {
   "cell_type": "code",
   "execution_count": 8,
   "metadata": {},
   "outputs": [
    {
     "data": {
      "text/plain": [
       "(306242, 5)"
      ]
     },
     "execution_count": 8,
     "metadata": {},
     "output_type": "execute_result"
    }
   ],
   "source": [
    "df.shape"
   ]
  },
  {
   "cell_type": "code",
   "execution_count": 9,
   "metadata": {},
   "outputs": [
    {
     "data": {
      "text/html": [
       "<div>\n",
       "<style>\n",
       "    .dataframe thead tr:only-child th {\n",
       "        text-align: right;\n",
       "    }\n",
       "\n",
       "    .dataframe thead th {\n",
       "        text-align: left;\n",
       "    }\n",
       "\n",
       "    .dataframe tbody tr th {\n",
       "        vertical-align: top;\n",
       "    }\n",
       "</style>\n",
       "<table border=\"1\" class=\"dataframe\">\n",
       "  <thead>\n",
       "    <tr style=\"text-align: right;\">\n",
       "      <th></th>\n",
       "      <th>published_date</th>\n",
       "      <th>source_name</th>\n",
       "      <th>title</th>\n",
       "      <th>body</th>\n",
       "      <th>url</th>\n",
       "    </tr>\n",
       "  </thead>\n",
       "  <tbody>\n",
       "    <tr>\n",
       "      <th>0</th>\n",
       "      <td>2018-03-27T22:14:00.000+03:00</td>\n",
       "      <td>reuters.com</td>\n",
       "      <td>BRIEF-AU Optronics to pay cash dividend of T$1...</td>\n",
       "      <td>March 27(Reuters) - AU Optronics Corp :\\n* Say...</td>\n",
       "      <td>https://www.reuters.com/article/brief-au-optro...</td>\n",
       "    </tr>\n",
       "    <tr>\n",
       "      <th>1</th>\n",
       "      <td>2018-03-08T15:42:00.000+02:00</td>\n",
       "      <td>reuters.com</td>\n",
       "      <td>British stats watchdog - stop using RPI inflat...</td>\n",
       "      <td>March 8, 2018 / 1:35 PM / Updated an hour ago ...</td>\n",
       "      <td>https://uk.reuters.com/article/uk-britain-econ...</td>\n",
       "    </tr>\n",
       "    <tr>\n",
       "      <th>2</th>\n",
       "      <td>2018-03-23T22:23:00.000+03:00</td>\n",
       "      <td>reuters.com</td>\n",
       "      <td>Dropbox shares surge in IPO</td>\n",
       "      <td>Dropbox shares surge in IPO Saturday, March 24...</td>\n",
       "      <td>https://in.reuters.com/video/2018/03/23/dropbo...</td>\n",
       "    </tr>\n",
       "    <tr>\n",
       "      <th>3</th>\n",
       "      <td>2018-03-13T01:05:00.000+02:00</td>\n",
       "      <td>reuters.com</td>\n",
       "      <td>Bookkeeper of Auschwitz dies before starting s...</td>\n",
       "      <td>BERLIN (Reuters) - The man known as the “bookk...</td>\n",
       "      <td>https://www.reuters.com/article/us-germany-naz...</td>\n",
       "    </tr>\n",
       "    <tr>\n",
       "      <th>4</th>\n",
       "      <td>2018-03-05T13:27:00.000+02:00</td>\n",
       "      <td>cnbc.com</td>\n",
       "      <td>US stocks set for a negative open as trade war...</td>\n",
       "      <td>Dow closes 336 points higher as trade-war worr...</td>\n",
       "      <td>https://www.cnbc.com/2018/03/05/us-stock-futur...</td>\n",
       "    </tr>\n",
       "  </tbody>\n",
       "</table>\n",
       "</div>"
      ],
      "text/plain": [
       "                  published_date  source_name  \\\n",
       "0  2018-03-27T22:14:00.000+03:00  reuters.com   \n",
       "1  2018-03-08T15:42:00.000+02:00  reuters.com   \n",
       "2  2018-03-23T22:23:00.000+03:00  reuters.com   \n",
       "3  2018-03-13T01:05:00.000+02:00  reuters.com   \n",
       "4  2018-03-05T13:27:00.000+02:00     cnbc.com   \n",
       "\n",
       "                                               title  \\\n",
       "0  BRIEF-AU Optronics to pay cash dividend of T$1...   \n",
       "1  British stats watchdog - stop using RPI inflat...   \n",
       "2                        Dropbox shares surge in IPO   \n",
       "3  Bookkeeper of Auschwitz dies before starting s...   \n",
       "4  US stocks set for a negative open as trade war...   \n",
       "\n",
       "                                                body  \\\n",
       "0  March 27(Reuters) - AU Optronics Corp :\\n* Say...   \n",
       "1  March 8, 2018 / 1:35 PM / Updated an hour ago ...   \n",
       "2  Dropbox shares surge in IPO Saturday, March 24...   \n",
       "3  BERLIN (Reuters) - The man known as the “bookk...   \n",
       "4  Dow closes 336 points higher as trade-war worr...   \n",
       "\n",
       "                                                 url  \n",
       "0  https://www.reuters.com/article/brief-au-optro...  \n",
       "1  https://uk.reuters.com/article/uk-britain-econ...  \n",
       "2  https://in.reuters.com/video/2018/03/23/dropbo...  \n",
       "3  https://www.reuters.com/article/us-germany-naz...  \n",
       "4  https://www.cnbc.com/2018/03/05/us-stock-futur...  "
      ]
     },
     "execution_count": 9,
     "metadata": {},
     "output_type": "execute_result"
    }
   ],
   "source": [
    "df.head()"
   ]
  },
  {
   "cell_type": "markdown",
   "metadata": {},
   "source": [
    "## Sort the data by date"
   ]
  },
  {
   "cell_type": "code",
   "execution_count": 10,
   "metadata": {
    "collapsed": true
   },
   "outputs": [],
   "source": [
    "df = df.sort_values(by=['published_date'], ascending=True)\n"
   ]
  },
  {
   "cell_type": "code",
   "execution_count": 11,
   "metadata": {},
   "outputs": [
    {
     "data": {
      "text/html": [
       "<div>\n",
       "<style>\n",
       "    .dataframe thead tr:only-child th {\n",
       "        text-align: right;\n",
       "    }\n",
       "\n",
       "    .dataframe thead th {\n",
       "        text-align: left;\n",
       "    }\n",
       "\n",
       "    .dataframe tbody tr th {\n",
       "        vertical-align: top;\n",
       "    }\n",
       "</style>\n",
       "<table border=\"1\" class=\"dataframe\">\n",
       "  <thead>\n",
       "    <tr style=\"text-align: right;\">\n",
       "      <th></th>\n",
       "      <th>published_date</th>\n",
       "      <th>source_name</th>\n",
       "      <th>title</th>\n",
       "      <th>body</th>\n",
       "      <th>url</th>\n",
       "    </tr>\n",
       "  </thead>\n",
       "  <tbody>\n",
       "    <tr>\n",
       "      <th>209579</th>\n",
       "      <td>2017-12-07T06:58:00.000+02:00</td>\n",
       "      <td>wsj.com</td>\n",
       "      <td>This entrepreneur is ringing up sales restorin...</td>\n",
       "      <td>Published: Dec 7, 2017 4:58 a.m. ET Share \\nCo...</td>\n",
       "      <td>https://www.wsj.com/articles/an-entrepreneur-b...</td>\n",
       "    </tr>\n",
       "    <tr>\n",
       "      <th>205030</th>\n",
       "      <td>2017-12-07T22:36:00.000+02:00</td>\n",
       "      <td>cnbc.com</td>\n",
       "      <td>Mexican official disputes reports of tainted a...</td>\n",
       "      <td>Mexico's secretary of tourism disputed reports...</td>\n",
       "      <td>https://www.cnbc.com/2017/12/07/mexican-offici...</td>\n",
       "    </tr>\n",
       "    <tr>\n",
       "      <th>238985</th>\n",
       "      <td>2017-12-07T22:45:00.000+02:00</td>\n",
       "      <td>cnbc.com</td>\n",
       "      <td>Saudi prince has history of extravagant impuls...</td>\n",
       "      <td>Timothy A. Clary | AFP | Getty Images Christie...</td>\n",
       "      <td>https://www.cnbc.com/2017/12/07/saudi-prince-h...</td>\n",
       "    </tr>\n",
       "    <tr>\n",
       "      <th>186087</th>\n",
       "      <td>2017-12-08T02:00:00.000+02:00</td>\n",
       "      <td>fortune.com</td>\n",
       "      <td>Golden Globes Predictions for Netflix's The Cr...</td>\n",
       "      <td>By Tom Huddleston Jr. 10:44 AM EST \\nOn Sunday...</td>\n",
       "      <td>http://fortune.com/2018/01/05/golden-globes-20...</td>\n",
       "    </tr>\n",
       "    <tr>\n",
       "      <th>242189</th>\n",
       "      <td>2017-12-08T02:00:00.000+02:00</td>\n",
       "      <td>fortune.com</td>\n",
       "      <td>Bitcoin: Peter Thiel's Founders Fund Goes Big ...</td>\n",
       "      <td>7:54 PM EST \\nPeter Thiel and his venture capi...</td>\n",
       "      <td>http://fortune.com/2018/01/02/bitcoin-peter-th...</td>\n",
       "    </tr>\n",
       "  </tbody>\n",
       "</table>\n",
       "</div>"
      ],
      "text/plain": [
       "                       published_date  source_name  \\\n",
       "209579  2017-12-07T06:58:00.000+02:00      wsj.com   \n",
       "205030  2017-12-07T22:36:00.000+02:00     cnbc.com   \n",
       "238985  2017-12-07T22:45:00.000+02:00     cnbc.com   \n",
       "186087  2017-12-08T02:00:00.000+02:00  fortune.com   \n",
       "242189  2017-12-08T02:00:00.000+02:00  fortune.com   \n",
       "\n",
       "                                                    title  \\\n",
       "209579  This entrepreneur is ringing up sales restorin...   \n",
       "205030  Mexican official disputes reports of tainted a...   \n",
       "238985  Saudi prince has history of extravagant impuls...   \n",
       "186087  Golden Globes Predictions for Netflix's The Cr...   \n",
       "242189  Bitcoin: Peter Thiel's Founders Fund Goes Big ...   \n",
       "\n",
       "                                                     body  \\\n",
       "209579  Published: Dec 7, 2017 4:58 a.m. ET Share \\nCo...   \n",
       "205030  Mexico's secretary of tourism disputed reports...   \n",
       "238985  Timothy A. Clary | AFP | Getty Images Christie...   \n",
       "186087  By Tom Huddleston Jr. 10:44 AM EST \\nOn Sunday...   \n",
       "242189  7:54 PM EST \\nPeter Thiel and his venture capi...   \n",
       "\n",
       "                                                      url  \n",
       "209579  https://www.wsj.com/articles/an-entrepreneur-b...  \n",
       "205030  https://www.cnbc.com/2017/12/07/mexican-offici...  \n",
       "238985  https://www.cnbc.com/2017/12/07/saudi-prince-h...  \n",
       "186087  http://fortune.com/2018/01/05/golden-globes-20...  \n",
       "242189  http://fortune.com/2018/01/02/bitcoin-peter-th...  "
      ]
     },
     "execution_count": 11,
     "metadata": {},
     "output_type": "execute_result"
    }
   ],
   "source": [
    "df.head()"
   ]
  },
  {
   "cell_type": "code",
   "execution_count": 12,
   "metadata": {
    "collapsed": true
   },
   "outputs": [],
   "source": [
    "df=df.reset_index(inplace=False)\n",
    "del df['index']"
   ]
  },
  {
   "cell_type": "code",
   "execution_count": 17,
   "metadata": {},
   "outputs": [
    {
     "data": {
      "text/html": [
       "<div>\n",
       "<style>\n",
       "    .dataframe thead tr:only-child th {\n",
       "        text-align: right;\n",
       "    }\n",
       "\n",
       "    .dataframe thead th {\n",
       "        text-align: left;\n",
       "    }\n",
       "\n",
       "    .dataframe tbody tr th {\n",
       "        vertical-align: top;\n",
       "    }\n",
       "</style>\n",
       "<table border=\"1\" class=\"dataframe\">\n",
       "  <thead>\n",
       "    <tr style=\"text-align: right;\">\n",
       "      <th></th>\n",
       "      <th>published_date</th>\n",
       "      <th>source_name</th>\n",
       "      <th>title</th>\n",
       "      <th>body</th>\n",
       "      <th>url</th>\n",
       "    </tr>\n",
       "  </thead>\n",
       "  <tbody>\n",
       "    <tr>\n",
       "      <th>0</th>\n",
       "      <td>2017-12-07T06:58:00.000+02:00</td>\n",
       "      <td>wsj.com</td>\n",
       "      <td>This entrepreneur is ringing up sales restorin...</td>\n",
       "      <td>Published: Dec 7, 2017 4:58 a.m. ET Share \\nCo...</td>\n",
       "      <td>https://www.wsj.com/articles/an-entrepreneur-b...</td>\n",
       "    </tr>\n",
       "    <tr>\n",
       "      <th>1</th>\n",
       "      <td>2017-12-07T22:36:00.000+02:00</td>\n",
       "      <td>cnbc.com</td>\n",
       "      <td>Mexican official disputes reports of tainted a...</td>\n",
       "      <td>Mexico's secretary of tourism disputed reports...</td>\n",
       "      <td>https://www.cnbc.com/2017/12/07/mexican-offici...</td>\n",
       "    </tr>\n",
       "    <tr>\n",
       "      <th>2</th>\n",
       "      <td>2017-12-07T22:45:00.000+02:00</td>\n",
       "      <td>cnbc.com</td>\n",
       "      <td>Saudi prince has history of extravagant impuls...</td>\n",
       "      <td>Timothy A. Clary | AFP | Getty Images Christie...</td>\n",
       "      <td>https://www.cnbc.com/2017/12/07/saudi-prince-h...</td>\n",
       "    </tr>\n",
       "    <tr>\n",
       "      <th>3</th>\n",
       "      <td>2017-12-08T02:00:00.000+02:00</td>\n",
       "      <td>fortune.com</td>\n",
       "      <td>Golden Globes Predictions for Netflix's The Cr...</td>\n",
       "      <td>By Tom Huddleston Jr. 10:44 AM EST \\nOn Sunday...</td>\n",
       "      <td>http://fortune.com/2018/01/05/golden-globes-20...</td>\n",
       "    </tr>\n",
       "    <tr>\n",
       "      <th>4</th>\n",
       "      <td>2017-12-08T02:00:00.000+02:00</td>\n",
       "      <td>fortune.com</td>\n",
       "      <td>Bitcoin: Peter Thiel's Founders Fund Goes Big ...</td>\n",
       "      <td>7:54 PM EST \\nPeter Thiel and his venture capi...</td>\n",
       "      <td>http://fortune.com/2018/01/02/bitcoin-peter-th...</td>\n",
       "    </tr>\n",
       "  </tbody>\n",
       "</table>\n",
       "</div>"
      ],
      "text/plain": [
       "                  published_date  source_name  \\\n",
       "0  2017-12-07T06:58:00.000+02:00      wsj.com   \n",
       "1  2017-12-07T22:36:00.000+02:00     cnbc.com   \n",
       "2  2017-12-07T22:45:00.000+02:00     cnbc.com   \n",
       "3  2017-12-08T02:00:00.000+02:00  fortune.com   \n",
       "4  2017-12-08T02:00:00.000+02:00  fortune.com   \n",
       "\n",
       "                                               title  \\\n",
       "0  This entrepreneur is ringing up sales restorin...   \n",
       "1  Mexican official disputes reports of tainted a...   \n",
       "2  Saudi prince has history of extravagant impuls...   \n",
       "3  Golden Globes Predictions for Netflix's The Cr...   \n",
       "4  Bitcoin: Peter Thiel's Founders Fund Goes Big ...   \n",
       "\n",
       "                                                body  \\\n",
       "0  Published: Dec 7, 2017 4:58 a.m. ET Share \\nCo...   \n",
       "1  Mexico's secretary of tourism disputed reports...   \n",
       "2  Timothy A. Clary | AFP | Getty Images Christie...   \n",
       "3  By Tom Huddleston Jr. 10:44 AM EST \\nOn Sunday...   \n",
       "4  7:54 PM EST \\nPeter Thiel and his venture capi...   \n",
       "\n",
       "                                                 url  \n",
       "0  https://www.wsj.com/articles/an-entrepreneur-b...  \n",
       "1  https://www.cnbc.com/2017/12/07/mexican-offici...  \n",
       "2  https://www.cnbc.com/2017/12/07/saudi-prince-h...  \n",
       "3  http://fortune.com/2018/01/05/golden-globes-20...  \n",
       "4  http://fortune.com/2018/01/02/bitcoin-peter-th...  "
      ]
     },
     "execution_count": 17,
     "metadata": {},
     "output_type": "execute_result"
    }
   ],
   "source": [
    "df.head()"
   ]
  },
  {
   "cell_type": "markdown",
   "metadata": {},
   "source": [
    "## Export to .csv file"
   ]
  },
  {
   "cell_type": "code",
   "execution_count": 18,
   "metadata": {
    "collapsed": true
   },
   "outputs": [],
   "source": [
    "df.to_csv('us_financial_news_articles_2018.csv')"
   ]
  },
  {
   "cell_type": "code",
   "execution_count": null,
   "metadata": {
    "collapsed": true
   },
   "outputs": [],
   "source": []
  },
  {
   "cell_type": "code",
   "execution_count": null,
   "metadata": {
    "collapsed": true
   },
   "outputs": [],
   "source": []
  },
  {
   "cell_type": "code",
   "execution_count": null,
   "metadata": {
    "collapsed": true
   },
   "outputs": [],
   "source": []
  }
 ],
 "metadata": {
  "kernelspec": {
   "display_name": "Python 3",
   "language": "python",
   "name": "python3"
  },
  "language_info": {
   "codemirror_mode": {
    "name": "ipython",
    "version": 3
   },
   "file_extension": ".py",
   "mimetype": "text/x-python",
   "name": "python",
   "nbconvert_exporter": "python",
   "pygments_lexer": "ipython3",
   "version": "3.6.8"
  }
 },
 "nbformat": 4,
 "nbformat_minor": 2
}
